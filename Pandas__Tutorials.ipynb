{
  "nbformat": 4,
  "nbformat_minor": 0,
  "metadata": {
    "colab": {
      "name": "Pandas__Tutorials.ipynb",
      "provenance": [],
      "collapsed_sections": [],
      "include_colab_link": true
    },
    "kernelspec": {
      "name": "python3",
      "display_name": "Python 3"
    },
    "language_info": {
      "name": "python"
    }
  },
  "cells": [
    {
      "cell_type": "markdown",
      "metadata": {
        "id": "view-in-github",
        "colab_type": "text"
      },
      "source": [
        "<a href=\"https://colab.research.google.com/github/WhiteWolf088/Pandas_Tutorials/blob/main/Pandas__Tutorials.ipynb\" target=\"_parent\"><img src=\"https://colab.research.google.com/assets/colab-badge.svg\" alt=\"Open In Colab\"/></a>"
      ]
    },
    {
      "cell_type": "code",
      "metadata": {
        "id": "clzWsPq2IU4o"
      },
      "source": [
        "import pandas as pd\n",
        "import numpy as np"
      ],
      "execution_count": 1,
      "outputs": []
    },
    {
      "cell_type": "code",
      "metadata": {
        "colab": {
          "base_uri": "https://localhost:8080/"
        },
        "id": "LYx_0tMVIe0M",
        "outputId": "21d2df42-3d40-465b-c429-ee17df0edb89"
      },
      "source": [
        "A=pd.Series([1,5,9,2,3,np.nan,7,8,4,6])\n",
        "A"
      ],
      "execution_count": 2,
      "outputs": [
        {
          "output_type": "execute_result",
          "data": {
            "text/plain": [
              "0    1.0\n",
              "1    5.0\n",
              "2    9.0\n",
              "3    2.0\n",
              "4    3.0\n",
              "5    NaN\n",
              "6    7.0\n",
              "7    8.0\n",
              "8    4.0\n",
              "9    6.0\n",
              "dtype: float64"
            ]
          },
          "metadata": {},
          "execution_count": 2
        }
      ]
    },
    {
      "cell_type": "code",
      "metadata": {
        "colab": {
          "base_uri": "https://localhost:8080/"
        },
        "id": "-VENxNqRIqpb",
        "outputId": "f7f6ade6-28e5-4105-f678-c0e5a81e36fc"
      },
      "source": [
        "B=pd.date_range(\"20210909\",periods=10)\n",
        "B"
      ],
      "execution_count": 3,
      "outputs": [
        {
          "output_type": "execute_result",
          "data": {
            "text/plain": [
              "DatetimeIndex(['2021-09-09', '2021-09-10', '2021-09-11', '2021-09-12',\n",
              "               '2021-09-13', '2021-09-14', '2021-09-15', '2021-09-16',\n",
              "               '2021-09-17', '2021-09-18'],\n",
              "              dtype='datetime64[ns]', freq='D')"
            ]
          },
          "metadata": {},
          "execution_count": 3
        }
      ]
    },
    {
      "cell_type": "code",
      "metadata": {
        "id": "qj_eBtQTJAOZ"
      },
      "source": [
        "df=pd.DataFrame(np.random.randn(10,4),index=B,columns=[\"A\",\"B\",\"C\",\"d\"])"
      ],
      "execution_count": 4,
      "outputs": []
    },
    {
      "cell_type": "code",
      "metadata": {
        "colab": {
          "base_uri": "https://localhost:8080/",
          "height": 359
        },
        "id": "jKTpTMNvJyW9",
        "outputId": "498457a7-cf22-4252-aa25-098c39e0d65e"
      },
      "source": [
        "df"
      ],
      "execution_count": 5,
      "outputs": [
        {
          "output_type": "execute_result",
          "data": {
            "text/html": [
              "<div>\n",
              "<style scoped>\n",
              "    .dataframe tbody tr th:only-of-type {\n",
              "        vertical-align: middle;\n",
              "    }\n",
              "\n",
              "    .dataframe tbody tr th {\n",
              "        vertical-align: top;\n",
              "    }\n",
              "\n",
              "    .dataframe thead th {\n",
              "        text-align: right;\n",
              "    }\n",
              "</style>\n",
              "<table border=\"1\" class=\"dataframe\">\n",
              "  <thead>\n",
              "    <tr style=\"text-align: right;\">\n",
              "      <th></th>\n",
              "      <th>A</th>\n",
              "      <th>B</th>\n",
              "      <th>C</th>\n",
              "      <th>d</th>\n",
              "    </tr>\n",
              "  </thead>\n",
              "  <tbody>\n",
              "    <tr>\n",
              "      <th>2021-09-09</th>\n",
              "      <td>0.500779</td>\n",
              "      <td>1.124941</td>\n",
              "      <td>-0.688764</td>\n",
              "      <td>-1.428160</td>\n",
              "    </tr>\n",
              "    <tr>\n",
              "      <th>2021-09-10</th>\n",
              "      <td>0.010950</td>\n",
              "      <td>0.694608</td>\n",
              "      <td>1.429074</td>\n",
              "      <td>-0.073073</td>\n",
              "    </tr>\n",
              "    <tr>\n",
              "      <th>2021-09-11</th>\n",
              "      <td>-1.110750</td>\n",
              "      <td>-1.355795</td>\n",
              "      <td>-0.332258</td>\n",
              "      <td>-0.400336</td>\n",
              "    </tr>\n",
              "    <tr>\n",
              "      <th>2021-09-12</th>\n",
              "      <td>-0.556080</td>\n",
              "      <td>-0.731271</td>\n",
              "      <td>-1.510003</td>\n",
              "      <td>-0.126950</td>\n",
              "    </tr>\n",
              "    <tr>\n",
              "      <th>2021-09-13</th>\n",
              "      <td>-0.735221</td>\n",
              "      <td>0.056268</td>\n",
              "      <td>-0.347651</td>\n",
              "      <td>0.036559</td>\n",
              "    </tr>\n",
              "    <tr>\n",
              "      <th>2021-09-14</th>\n",
              "      <td>-0.044042</td>\n",
              "      <td>2.142531</td>\n",
              "      <td>-0.762381</td>\n",
              "      <td>1.303663</td>\n",
              "    </tr>\n",
              "    <tr>\n",
              "      <th>2021-09-15</th>\n",
              "      <td>0.015584</td>\n",
              "      <td>-0.096978</td>\n",
              "      <td>1.249749</td>\n",
              "      <td>0.683619</td>\n",
              "    </tr>\n",
              "    <tr>\n",
              "      <th>2021-09-16</th>\n",
              "      <td>-0.191496</td>\n",
              "      <td>-0.844129</td>\n",
              "      <td>-0.728324</td>\n",
              "      <td>-0.891311</td>\n",
              "    </tr>\n",
              "    <tr>\n",
              "      <th>2021-09-17</th>\n",
              "      <td>2.527207</td>\n",
              "      <td>0.311504</td>\n",
              "      <td>-2.401647</td>\n",
              "      <td>0.114404</td>\n",
              "    </tr>\n",
              "    <tr>\n",
              "      <th>2021-09-18</th>\n",
              "      <td>-0.296821</td>\n",
              "      <td>0.651551</td>\n",
              "      <td>-1.283087</td>\n",
              "      <td>0.247827</td>\n",
              "    </tr>\n",
              "  </tbody>\n",
              "</table>\n",
              "</div>"
            ],
            "text/plain": [
              "                   A         B         C         d\n",
              "2021-09-09  0.500779  1.124941 -0.688764 -1.428160\n",
              "2021-09-10  0.010950  0.694608  1.429074 -0.073073\n",
              "2021-09-11 -1.110750 -1.355795 -0.332258 -0.400336\n",
              "2021-09-12 -0.556080 -0.731271 -1.510003 -0.126950\n",
              "2021-09-13 -0.735221  0.056268 -0.347651  0.036559\n",
              "2021-09-14 -0.044042  2.142531 -0.762381  1.303663\n",
              "2021-09-15  0.015584 -0.096978  1.249749  0.683619\n",
              "2021-09-16 -0.191496 -0.844129 -0.728324 -0.891311\n",
              "2021-09-17  2.527207  0.311504 -2.401647  0.114404\n",
              "2021-09-18 -0.296821  0.651551 -1.283087  0.247827"
            ]
          },
          "metadata": {},
          "execution_count": 5
        }
      ]
    },
    {
      "cell_type": "code",
      "metadata": {
        "id": "kbA9kPZdJzKt"
      },
      "source": [
        "df_1=pd.DataFrame({\"A\":[1,2,3,4],\n",
        "                 \"B\":pd.Timestamp(\"20210909\"),\n",
        "                 \"C\":pd.Series(1,index=list(range(4)),dtype=\"Float32\"),\n",
        "                 \"D\":np.array([5]*4,dtype=\"int32\"),\n",
        "                 \"E\":pd.Categorical([\"True\",\"False\",\"True\",\"False\"]),\n",
        "                 \"F\":\"PavanKumarReddy\"})"
      ],
      "execution_count": 6,
      "outputs": []
    },
    {
      "cell_type": "code",
      "metadata": {
        "colab": {
          "base_uri": "https://localhost:8080/",
          "height": 173
        },
        "id": "o7sesq0ZLTSP",
        "outputId": "dd039ed3-7364-4e12-fd5e-534e4357cd2a"
      },
      "source": [
        "df_1"
      ],
      "execution_count": 7,
      "outputs": [
        {
          "output_type": "execute_result",
          "data": {
            "text/html": [
              "<div>\n",
              "<style scoped>\n",
              "    .dataframe tbody tr th:only-of-type {\n",
              "        vertical-align: middle;\n",
              "    }\n",
              "\n",
              "    .dataframe tbody tr th {\n",
              "        vertical-align: top;\n",
              "    }\n",
              "\n",
              "    .dataframe thead th {\n",
              "        text-align: right;\n",
              "    }\n",
              "</style>\n",
              "<table border=\"1\" class=\"dataframe\">\n",
              "  <thead>\n",
              "    <tr style=\"text-align: right;\">\n",
              "      <th></th>\n",
              "      <th>A</th>\n",
              "      <th>B</th>\n",
              "      <th>C</th>\n",
              "      <th>D</th>\n",
              "      <th>E</th>\n",
              "      <th>F</th>\n",
              "    </tr>\n",
              "  </thead>\n",
              "  <tbody>\n",
              "    <tr>\n",
              "      <th>0</th>\n",
              "      <td>1</td>\n",
              "      <td>2021-09-09</td>\n",
              "      <td>1.0</td>\n",
              "      <td>5</td>\n",
              "      <td>True</td>\n",
              "      <td>PavanKumarReddy</td>\n",
              "    </tr>\n",
              "    <tr>\n",
              "      <th>1</th>\n",
              "      <td>2</td>\n",
              "      <td>2021-09-09</td>\n",
              "      <td>1.0</td>\n",
              "      <td>5</td>\n",
              "      <td>False</td>\n",
              "      <td>PavanKumarReddy</td>\n",
              "    </tr>\n",
              "    <tr>\n",
              "      <th>2</th>\n",
              "      <td>3</td>\n",
              "      <td>2021-09-09</td>\n",
              "      <td>1.0</td>\n",
              "      <td>5</td>\n",
              "      <td>True</td>\n",
              "      <td>PavanKumarReddy</td>\n",
              "    </tr>\n",
              "    <tr>\n",
              "      <th>3</th>\n",
              "      <td>4</td>\n",
              "      <td>2021-09-09</td>\n",
              "      <td>1.0</td>\n",
              "      <td>5</td>\n",
              "      <td>False</td>\n",
              "      <td>PavanKumarReddy</td>\n",
              "    </tr>\n",
              "  </tbody>\n",
              "</table>\n",
              "</div>"
            ],
            "text/plain": [
              "   A          B    C  D      E                F\n",
              "0  1 2021-09-09  1.0  5   True  PavanKumarReddy\n",
              "1  2 2021-09-09  1.0  5  False  PavanKumarReddy\n",
              "2  3 2021-09-09  1.0  5   True  PavanKumarReddy\n",
              "3  4 2021-09-09  1.0  5  False  PavanKumarReddy"
            ]
          },
          "metadata": {},
          "execution_count": 7
        }
      ]
    },
    {
      "cell_type": "code",
      "metadata": {
        "colab": {
          "base_uri": "https://localhost:8080/"
        },
        "id": "QCJUlOFJLU88",
        "outputId": "a8186ccb-9a05-43ba-e01d-62d03d58d95d"
      },
      "source": [
        "df_1.dtypes"
      ],
      "execution_count": 8,
      "outputs": [
        {
          "output_type": "execute_result",
          "data": {
            "text/plain": [
              "A             int64\n",
              "B    datetime64[ns]\n",
              "C           float32\n",
              "D             int32\n",
              "E          category\n",
              "F            object\n",
              "dtype: object"
            ]
          },
          "metadata": {},
          "execution_count": 8
        }
      ]
    },
    {
      "cell_type": "code",
      "metadata": {
        "colab": {
          "base_uri": "https://localhost:8080/"
        },
        "id": "CI-ALIgBLjmR",
        "outputId": "e4a8e688-0661-4a57-d61b-f47a302d6649"
      },
      "source": [
        "df.dtypes"
      ],
      "execution_count": 9,
      "outputs": [
        {
          "output_type": "execute_result",
          "data": {
            "text/plain": [
              "A    float64\n",
              "B    float64\n",
              "C    float64\n",
              "d    float64\n",
              "dtype: object"
            ]
          },
          "metadata": {},
          "execution_count": 9
        }
      ]
    },
    {
      "cell_type": "code",
      "metadata": {
        "colab": {
          "base_uri": "https://localhost:8080/",
          "height": 204
        },
        "id": "QEHMjQqPMccD",
        "outputId": "bf039587-85c4-44fb-b392-950ffe1f0943"
      },
      "source": [
        "df.head()"
      ],
      "execution_count": 10,
      "outputs": [
        {
          "output_type": "execute_result",
          "data": {
            "text/html": [
              "<div>\n",
              "<style scoped>\n",
              "    .dataframe tbody tr th:only-of-type {\n",
              "        vertical-align: middle;\n",
              "    }\n",
              "\n",
              "    .dataframe tbody tr th {\n",
              "        vertical-align: top;\n",
              "    }\n",
              "\n",
              "    .dataframe thead th {\n",
              "        text-align: right;\n",
              "    }\n",
              "</style>\n",
              "<table border=\"1\" class=\"dataframe\">\n",
              "  <thead>\n",
              "    <tr style=\"text-align: right;\">\n",
              "      <th></th>\n",
              "      <th>A</th>\n",
              "      <th>B</th>\n",
              "      <th>C</th>\n",
              "      <th>d</th>\n",
              "    </tr>\n",
              "  </thead>\n",
              "  <tbody>\n",
              "    <tr>\n",
              "      <th>2021-09-09</th>\n",
              "      <td>0.500779</td>\n",
              "      <td>1.124941</td>\n",
              "      <td>-0.688764</td>\n",
              "      <td>-1.428160</td>\n",
              "    </tr>\n",
              "    <tr>\n",
              "      <th>2021-09-10</th>\n",
              "      <td>0.010950</td>\n",
              "      <td>0.694608</td>\n",
              "      <td>1.429074</td>\n",
              "      <td>-0.073073</td>\n",
              "    </tr>\n",
              "    <tr>\n",
              "      <th>2021-09-11</th>\n",
              "      <td>-1.110750</td>\n",
              "      <td>-1.355795</td>\n",
              "      <td>-0.332258</td>\n",
              "      <td>-0.400336</td>\n",
              "    </tr>\n",
              "    <tr>\n",
              "      <th>2021-09-12</th>\n",
              "      <td>-0.556080</td>\n",
              "      <td>-0.731271</td>\n",
              "      <td>-1.510003</td>\n",
              "      <td>-0.126950</td>\n",
              "    </tr>\n",
              "    <tr>\n",
              "      <th>2021-09-13</th>\n",
              "      <td>-0.735221</td>\n",
              "      <td>0.056268</td>\n",
              "      <td>-0.347651</td>\n",
              "      <td>0.036559</td>\n",
              "    </tr>\n",
              "  </tbody>\n",
              "</table>\n",
              "</div>"
            ],
            "text/plain": [
              "                   A         B         C         d\n",
              "2021-09-09  0.500779  1.124941 -0.688764 -1.428160\n",
              "2021-09-10  0.010950  0.694608  1.429074 -0.073073\n",
              "2021-09-11 -1.110750 -1.355795 -0.332258 -0.400336\n",
              "2021-09-12 -0.556080 -0.731271 -1.510003 -0.126950\n",
              "2021-09-13 -0.735221  0.056268 -0.347651  0.036559"
            ]
          },
          "metadata": {},
          "execution_count": 10
        }
      ]
    },
    {
      "cell_type": "code",
      "metadata": {
        "colab": {
          "base_uri": "https://localhost:8080/",
          "height": 204
        },
        "id": "MNa5GePuM0QV",
        "outputId": "501eb7d6-47ce-4a1b-a947-45b1d9ed2bca"
      },
      "source": [
        "df.tail()"
      ],
      "execution_count": 11,
      "outputs": [
        {
          "output_type": "execute_result",
          "data": {
            "text/html": [
              "<div>\n",
              "<style scoped>\n",
              "    .dataframe tbody tr th:only-of-type {\n",
              "        vertical-align: middle;\n",
              "    }\n",
              "\n",
              "    .dataframe tbody tr th {\n",
              "        vertical-align: top;\n",
              "    }\n",
              "\n",
              "    .dataframe thead th {\n",
              "        text-align: right;\n",
              "    }\n",
              "</style>\n",
              "<table border=\"1\" class=\"dataframe\">\n",
              "  <thead>\n",
              "    <tr style=\"text-align: right;\">\n",
              "      <th></th>\n",
              "      <th>A</th>\n",
              "      <th>B</th>\n",
              "      <th>C</th>\n",
              "      <th>d</th>\n",
              "    </tr>\n",
              "  </thead>\n",
              "  <tbody>\n",
              "    <tr>\n",
              "      <th>2021-09-14</th>\n",
              "      <td>-0.044042</td>\n",
              "      <td>2.142531</td>\n",
              "      <td>-0.762381</td>\n",
              "      <td>1.303663</td>\n",
              "    </tr>\n",
              "    <tr>\n",
              "      <th>2021-09-15</th>\n",
              "      <td>0.015584</td>\n",
              "      <td>-0.096978</td>\n",
              "      <td>1.249749</td>\n",
              "      <td>0.683619</td>\n",
              "    </tr>\n",
              "    <tr>\n",
              "      <th>2021-09-16</th>\n",
              "      <td>-0.191496</td>\n",
              "      <td>-0.844129</td>\n",
              "      <td>-0.728324</td>\n",
              "      <td>-0.891311</td>\n",
              "    </tr>\n",
              "    <tr>\n",
              "      <th>2021-09-17</th>\n",
              "      <td>2.527207</td>\n",
              "      <td>0.311504</td>\n",
              "      <td>-2.401647</td>\n",
              "      <td>0.114404</td>\n",
              "    </tr>\n",
              "    <tr>\n",
              "      <th>2021-09-18</th>\n",
              "      <td>-0.296821</td>\n",
              "      <td>0.651551</td>\n",
              "      <td>-1.283087</td>\n",
              "      <td>0.247827</td>\n",
              "    </tr>\n",
              "  </tbody>\n",
              "</table>\n",
              "</div>"
            ],
            "text/plain": [
              "                   A         B         C         d\n",
              "2021-09-14 -0.044042  2.142531 -0.762381  1.303663\n",
              "2021-09-15  0.015584 -0.096978  1.249749  0.683619\n",
              "2021-09-16 -0.191496 -0.844129 -0.728324 -0.891311\n",
              "2021-09-17  2.527207  0.311504 -2.401647  0.114404\n",
              "2021-09-18 -0.296821  0.651551 -1.283087  0.247827"
            ]
          },
          "metadata": {},
          "execution_count": 11
        }
      ]
    },
    {
      "cell_type": "code",
      "metadata": {
        "colab": {
          "base_uri": "https://localhost:8080/"
        },
        "id": "ljEOu4mEM1-M",
        "outputId": "43d0f8e3-18c0-4ba1-bb2c-b15610302521"
      },
      "source": [
        "df.index"
      ],
      "execution_count": 12,
      "outputs": [
        {
          "output_type": "execute_result",
          "data": {
            "text/plain": [
              "DatetimeIndex(['2021-09-09', '2021-09-10', '2021-09-11', '2021-09-12',\n",
              "               '2021-09-13', '2021-09-14', '2021-09-15', '2021-09-16',\n",
              "               '2021-09-17', '2021-09-18'],\n",
              "              dtype='datetime64[ns]', freq='D')"
            ]
          },
          "metadata": {},
          "execution_count": 12
        }
      ]
    },
    {
      "cell_type": "code",
      "metadata": {
        "colab": {
          "base_uri": "https://localhost:8080/"
        },
        "id": "Ym4Z8aMXM8sG",
        "outputId": "158c352d-d642-44de-e692-73611a0d36e1"
      },
      "source": [
        "df.columns"
      ],
      "execution_count": 13,
      "outputs": [
        {
          "output_type": "execute_result",
          "data": {
            "text/plain": [
              "Index(['A', 'B', 'C', 'd'], dtype='object')"
            ]
          },
          "metadata": {},
          "execution_count": 13
        }
      ]
    },
    {
      "cell_type": "code",
      "metadata": {
        "colab": {
          "base_uri": "https://localhost:8080/",
          "height": 297
        },
        "id": "1tpxoeyyM-l-",
        "outputId": "98c36062-fc2d-4d21-d2dd-d5a509e7ba56"
      },
      "source": [
        "df.describe()"
      ],
      "execution_count": 14,
      "outputs": [
        {
          "output_type": "execute_result",
          "data": {
            "text/html": [
              "<div>\n",
              "<style scoped>\n",
              "    .dataframe tbody tr th:only-of-type {\n",
              "        vertical-align: middle;\n",
              "    }\n",
              "\n",
              "    .dataframe tbody tr th {\n",
              "        vertical-align: top;\n",
              "    }\n",
              "\n",
              "    .dataframe thead th {\n",
              "        text-align: right;\n",
              "    }\n",
              "</style>\n",
              "<table border=\"1\" class=\"dataframe\">\n",
              "  <thead>\n",
              "    <tr style=\"text-align: right;\">\n",
              "      <th></th>\n",
              "      <th>A</th>\n",
              "      <th>B</th>\n",
              "      <th>C</th>\n",
              "      <th>d</th>\n",
              "    </tr>\n",
              "  </thead>\n",
              "  <tbody>\n",
              "    <tr>\n",
              "      <th>count</th>\n",
              "      <td>10.000000</td>\n",
              "      <td>10.000000</td>\n",
              "      <td>10.000000</td>\n",
              "      <td>10.000000</td>\n",
              "    </tr>\n",
              "    <tr>\n",
              "      <th>mean</th>\n",
              "      <td>0.012011</td>\n",
              "      <td>0.195323</td>\n",
              "      <td>-0.537529</td>\n",
              "      <td>-0.053376</td>\n",
              "    </tr>\n",
              "    <tr>\n",
              "      <th>std</th>\n",
              "      <td>0.991448</td>\n",
              "      <td>1.031531</td>\n",
              "      <td>1.165543</td>\n",
              "      <td>0.762308</td>\n",
              "    </tr>\n",
              "    <tr>\n",
              "      <th>min</th>\n",
              "      <td>-1.110750</td>\n",
              "      <td>-1.355795</td>\n",
              "      <td>-2.401647</td>\n",
              "      <td>-1.428160</td>\n",
              "    </tr>\n",
              "    <tr>\n",
              "      <th>25%</th>\n",
              "      <td>-0.491265</td>\n",
              "      <td>-0.572698</td>\n",
              "      <td>-1.152911</td>\n",
              "      <td>-0.331990</td>\n",
              "    </tr>\n",
              "    <tr>\n",
              "      <th>50%</th>\n",
              "      <td>-0.117769</td>\n",
              "      <td>0.183886</td>\n",
              "      <td>-0.708544</td>\n",
              "      <td>-0.018257</td>\n",
              "    </tr>\n",
              "    <tr>\n",
              "      <th>75%</th>\n",
              "      <td>0.014425</td>\n",
              "      <td>0.683844</td>\n",
              "      <td>-0.336106</td>\n",
              "      <td>0.214471</td>\n",
              "    </tr>\n",
              "    <tr>\n",
              "      <th>max</th>\n",
              "      <td>2.527207</td>\n",
              "      <td>2.142531</td>\n",
              "      <td>1.429074</td>\n",
              "      <td>1.303663</td>\n",
              "    </tr>\n",
              "  </tbody>\n",
              "</table>\n",
              "</div>"
            ],
            "text/plain": [
              "               A          B          C          d\n",
              "count  10.000000  10.000000  10.000000  10.000000\n",
              "mean    0.012011   0.195323  -0.537529  -0.053376\n",
              "std     0.991448   1.031531   1.165543   0.762308\n",
              "min    -1.110750  -1.355795  -2.401647  -1.428160\n",
              "25%    -0.491265  -0.572698  -1.152911  -0.331990\n",
              "50%    -0.117769   0.183886  -0.708544  -0.018257\n",
              "75%     0.014425   0.683844  -0.336106   0.214471\n",
              "max     2.527207   2.142531   1.429074   1.303663"
            ]
          },
          "metadata": {},
          "execution_count": 14
        }
      ]
    },
    {
      "cell_type": "code",
      "metadata": {
        "colab": {
          "base_uri": "https://localhost:8080/",
          "height": 359
        },
        "id": "Mwpy3lttNFbv",
        "outputId": "baf2e98c-e97c-4dad-99b3-02224d87de0d"
      },
      "source": [
        "df.sort_index(axis=1,ascending=False)"
      ],
      "execution_count": 15,
      "outputs": [
        {
          "output_type": "execute_result",
          "data": {
            "text/html": [
              "<div>\n",
              "<style scoped>\n",
              "    .dataframe tbody tr th:only-of-type {\n",
              "        vertical-align: middle;\n",
              "    }\n",
              "\n",
              "    .dataframe tbody tr th {\n",
              "        vertical-align: top;\n",
              "    }\n",
              "\n",
              "    .dataframe thead th {\n",
              "        text-align: right;\n",
              "    }\n",
              "</style>\n",
              "<table border=\"1\" class=\"dataframe\">\n",
              "  <thead>\n",
              "    <tr style=\"text-align: right;\">\n",
              "      <th></th>\n",
              "      <th>d</th>\n",
              "      <th>C</th>\n",
              "      <th>B</th>\n",
              "      <th>A</th>\n",
              "    </tr>\n",
              "  </thead>\n",
              "  <tbody>\n",
              "    <tr>\n",
              "      <th>2021-09-09</th>\n",
              "      <td>-1.428160</td>\n",
              "      <td>-0.688764</td>\n",
              "      <td>1.124941</td>\n",
              "      <td>0.500779</td>\n",
              "    </tr>\n",
              "    <tr>\n",
              "      <th>2021-09-10</th>\n",
              "      <td>-0.073073</td>\n",
              "      <td>1.429074</td>\n",
              "      <td>0.694608</td>\n",
              "      <td>0.010950</td>\n",
              "    </tr>\n",
              "    <tr>\n",
              "      <th>2021-09-11</th>\n",
              "      <td>-0.400336</td>\n",
              "      <td>-0.332258</td>\n",
              "      <td>-1.355795</td>\n",
              "      <td>-1.110750</td>\n",
              "    </tr>\n",
              "    <tr>\n",
              "      <th>2021-09-12</th>\n",
              "      <td>-0.126950</td>\n",
              "      <td>-1.510003</td>\n",
              "      <td>-0.731271</td>\n",
              "      <td>-0.556080</td>\n",
              "    </tr>\n",
              "    <tr>\n",
              "      <th>2021-09-13</th>\n",
              "      <td>0.036559</td>\n",
              "      <td>-0.347651</td>\n",
              "      <td>0.056268</td>\n",
              "      <td>-0.735221</td>\n",
              "    </tr>\n",
              "    <tr>\n",
              "      <th>2021-09-14</th>\n",
              "      <td>1.303663</td>\n",
              "      <td>-0.762381</td>\n",
              "      <td>2.142531</td>\n",
              "      <td>-0.044042</td>\n",
              "    </tr>\n",
              "    <tr>\n",
              "      <th>2021-09-15</th>\n",
              "      <td>0.683619</td>\n",
              "      <td>1.249749</td>\n",
              "      <td>-0.096978</td>\n",
              "      <td>0.015584</td>\n",
              "    </tr>\n",
              "    <tr>\n",
              "      <th>2021-09-16</th>\n",
              "      <td>-0.891311</td>\n",
              "      <td>-0.728324</td>\n",
              "      <td>-0.844129</td>\n",
              "      <td>-0.191496</td>\n",
              "    </tr>\n",
              "    <tr>\n",
              "      <th>2021-09-17</th>\n",
              "      <td>0.114404</td>\n",
              "      <td>-2.401647</td>\n",
              "      <td>0.311504</td>\n",
              "      <td>2.527207</td>\n",
              "    </tr>\n",
              "    <tr>\n",
              "      <th>2021-09-18</th>\n",
              "      <td>0.247827</td>\n",
              "      <td>-1.283087</td>\n",
              "      <td>0.651551</td>\n",
              "      <td>-0.296821</td>\n",
              "    </tr>\n",
              "  </tbody>\n",
              "</table>\n",
              "</div>"
            ],
            "text/plain": [
              "                   d         C         B         A\n",
              "2021-09-09 -1.428160 -0.688764  1.124941  0.500779\n",
              "2021-09-10 -0.073073  1.429074  0.694608  0.010950\n",
              "2021-09-11 -0.400336 -0.332258 -1.355795 -1.110750\n",
              "2021-09-12 -0.126950 -1.510003 -0.731271 -0.556080\n",
              "2021-09-13  0.036559 -0.347651  0.056268 -0.735221\n",
              "2021-09-14  1.303663 -0.762381  2.142531 -0.044042\n",
              "2021-09-15  0.683619  1.249749 -0.096978  0.015584\n",
              "2021-09-16 -0.891311 -0.728324 -0.844129 -0.191496\n",
              "2021-09-17  0.114404 -2.401647  0.311504  2.527207\n",
              "2021-09-18  0.247827 -1.283087  0.651551 -0.296821"
            ]
          },
          "metadata": {},
          "execution_count": 15
        }
      ]
    },
    {
      "cell_type": "code",
      "metadata": {
        "colab": {
          "base_uri": "https://localhost:8080/",
          "height": 359
        },
        "id": "KbcskJ7oNshc",
        "outputId": "d4511a42-7fea-4fcb-87a1-639c8c278db4"
      },
      "source": [
        "df.sort_values(by=\"C\",ascending=True)"
      ],
      "execution_count": 16,
      "outputs": [
        {
          "output_type": "execute_result",
          "data": {
            "text/html": [
              "<div>\n",
              "<style scoped>\n",
              "    .dataframe tbody tr th:only-of-type {\n",
              "        vertical-align: middle;\n",
              "    }\n",
              "\n",
              "    .dataframe tbody tr th {\n",
              "        vertical-align: top;\n",
              "    }\n",
              "\n",
              "    .dataframe thead th {\n",
              "        text-align: right;\n",
              "    }\n",
              "</style>\n",
              "<table border=\"1\" class=\"dataframe\">\n",
              "  <thead>\n",
              "    <tr style=\"text-align: right;\">\n",
              "      <th></th>\n",
              "      <th>A</th>\n",
              "      <th>B</th>\n",
              "      <th>C</th>\n",
              "      <th>d</th>\n",
              "    </tr>\n",
              "  </thead>\n",
              "  <tbody>\n",
              "    <tr>\n",
              "      <th>2021-09-17</th>\n",
              "      <td>2.527207</td>\n",
              "      <td>0.311504</td>\n",
              "      <td>-2.401647</td>\n",
              "      <td>0.114404</td>\n",
              "    </tr>\n",
              "    <tr>\n",
              "      <th>2021-09-12</th>\n",
              "      <td>-0.556080</td>\n",
              "      <td>-0.731271</td>\n",
              "      <td>-1.510003</td>\n",
              "      <td>-0.126950</td>\n",
              "    </tr>\n",
              "    <tr>\n",
              "      <th>2021-09-18</th>\n",
              "      <td>-0.296821</td>\n",
              "      <td>0.651551</td>\n",
              "      <td>-1.283087</td>\n",
              "      <td>0.247827</td>\n",
              "    </tr>\n",
              "    <tr>\n",
              "      <th>2021-09-14</th>\n",
              "      <td>-0.044042</td>\n",
              "      <td>2.142531</td>\n",
              "      <td>-0.762381</td>\n",
              "      <td>1.303663</td>\n",
              "    </tr>\n",
              "    <tr>\n",
              "      <th>2021-09-16</th>\n",
              "      <td>-0.191496</td>\n",
              "      <td>-0.844129</td>\n",
              "      <td>-0.728324</td>\n",
              "      <td>-0.891311</td>\n",
              "    </tr>\n",
              "    <tr>\n",
              "      <th>2021-09-09</th>\n",
              "      <td>0.500779</td>\n",
              "      <td>1.124941</td>\n",
              "      <td>-0.688764</td>\n",
              "      <td>-1.428160</td>\n",
              "    </tr>\n",
              "    <tr>\n",
              "      <th>2021-09-13</th>\n",
              "      <td>-0.735221</td>\n",
              "      <td>0.056268</td>\n",
              "      <td>-0.347651</td>\n",
              "      <td>0.036559</td>\n",
              "    </tr>\n",
              "    <tr>\n",
              "      <th>2021-09-11</th>\n",
              "      <td>-1.110750</td>\n",
              "      <td>-1.355795</td>\n",
              "      <td>-0.332258</td>\n",
              "      <td>-0.400336</td>\n",
              "    </tr>\n",
              "    <tr>\n",
              "      <th>2021-09-15</th>\n",
              "      <td>0.015584</td>\n",
              "      <td>-0.096978</td>\n",
              "      <td>1.249749</td>\n",
              "      <td>0.683619</td>\n",
              "    </tr>\n",
              "    <tr>\n",
              "      <th>2021-09-10</th>\n",
              "      <td>0.010950</td>\n",
              "      <td>0.694608</td>\n",
              "      <td>1.429074</td>\n",
              "      <td>-0.073073</td>\n",
              "    </tr>\n",
              "  </tbody>\n",
              "</table>\n",
              "</div>"
            ],
            "text/plain": [
              "                   A         B         C         d\n",
              "2021-09-17  2.527207  0.311504 -2.401647  0.114404\n",
              "2021-09-12 -0.556080 -0.731271 -1.510003 -0.126950\n",
              "2021-09-18 -0.296821  0.651551 -1.283087  0.247827\n",
              "2021-09-14 -0.044042  2.142531 -0.762381  1.303663\n",
              "2021-09-16 -0.191496 -0.844129 -0.728324 -0.891311\n",
              "2021-09-09  0.500779  1.124941 -0.688764 -1.428160\n",
              "2021-09-13 -0.735221  0.056268 -0.347651  0.036559\n",
              "2021-09-11 -1.110750 -1.355795 -0.332258 -0.400336\n",
              "2021-09-15  0.015584 -0.096978  1.249749  0.683619\n",
              "2021-09-10  0.010950  0.694608  1.429074 -0.073073"
            ]
          },
          "metadata": {},
          "execution_count": 16
        }
      ]
    },
    {
      "cell_type": "markdown",
      "metadata": {
        "id": "ZpLgRvL4Q-XB"
      },
      "source": [
        "# Working with Indexes"
      ]
    },
    {
      "cell_type": "code",
      "metadata": {
        "colab": {
          "base_uri": "https://localhost:8080/"
        },
        "id": "CrqDbkIvN_fW",
        "outputId": "8e2478cf-628e-44ad-ead4-7a534e2e8500"
      },
      "source": [
        "df[\"B\"]"
      ],
      "execution_count": 17,
      "outputs": [
        {
          "output_type": "execute_result",
          "data": {
            "text/plain": [
              "2021-09-09    1.124941\n",
              "2021-09-10    0.694608\n",
              "2021-09-11   -1.355795\n",
              "2021-09-12   -0.731271\n",
              "2021-09-13    0.056268\n",
              "2021-09-14    2.142531\n",
              "2021-09-15   -0.096978\n",
              "2021-09-16   -0.844129\n",
              "2021-09-17    0.311504\n",
              "2021-09-18    0.651551\n",
              "Freq: D, Name: B, dtype: float64"
            ]
          },
          "metadata": {},
          "execution_count": 17
        }
      ]
    },
    {
      "cell_type": "code",
      "metadata": {
        "colab": {
          "base_uri": "https://localhost:8080/",
          "height": 111
        },
        "id": "_I34dQRZOfl-",
        "outputId": "9b0923bc-4a37-4820-c963-3414d0d7740c"
      },
      "source": [
        "df[0:2]"
      ],
      "execution_count": 18,
      "outputs": [
        {
          "output_type": "execute_result",
          "data": {
            "text/html": [
              "<div>\n",
              "<style scoped>\n",
              "    .dataframe tbody tr th:only-of-type {\n",
              "        vertical-align: middle;\n",
              "    }\n",
              "\n",
              "    .dataframe tbody tr th {\n",
              "        vertical-align: top;\n",
              "    }\n",
              "\n",
              "    .dataframe thead th {\n",
              "        text-align: right;\n",
              "    }\n",
              "</style>\n",
              "<table border=\"1\" class=\"dataframe\">\n",
              "  <thead>\n",
              "    <tr style=\"text-align: right;\">\n",
              "      <th></th>\n",
              "      <th>A</th>\n",
              "      <th>B</th>\n",
              "      <th>C</th>\n",
              "      <th>d</th>\n",
              "    </tr>\n",
              "  </thead>\n",
              "  <tbody>\n",
              "    <tr>\n",
              "      <th>2021-09-09</th>\n",
              "      <td>0.500779</td>\n",
              "      <td>1.124941</td>\n",
              "      <td>-0.688764</td>\n",
              "      <td>-1.428160</td>\n",
              "    </tr>\n",
              "    <tr>\n",
              "      <th>2021-09-10</th>\n",
              "      <td>0.010950</td>\n",
              "      <td>0.694608</td>\n",
              "      <td>1.429074</td>\n",
              "      <td>-0.073073</td>\n",
              "    </tr>\n",
              "  </tbody>\n",
              "</table>\n",
              "</div>"
            ],
            "text/plain": [
              "                   A         B         C         d\n",
              "2021-09-09  0.500779  1.124941 -0.688764 -1.428160\n",
              "2021-09-10  0.010950  0.694608  1.429074 -0.073073"
            ]
          },
          "metadata": {},
          "execution_count": 18
        }
      ]
    },
    {
      "cell_type": "code",
      "metadata": {
        "colab": {
          "base_uri": "https://localhost:8080/"
        },
        "id": "Xlce8n5xOvC7",
        "outputId": "90082929-e80f-4bf3-e874-50bad9c2e84e"
      },
      "source": [
        "df.loc[B[0]]"
      ],
      "execution_count": 19,
      "outputs": [
        {
          "output_type": "execute_result",
          "data": {
            "text/plain": [
              "A    0.500779\n",
              "B    1.124941\n",
              "C   -0.688764\n",
              "d   -1.428160\n",
              "Name: 2021-09-09 00:00:00, dtype: float64"
            ]
          },
          "metadata": {},
          "execution_count": 19
        }
      ]
    },
    {
      "cell_type": "code",
      "metadata": {
        "colab": {
          "base_uri": "https://localhost:8080/",
          "height": 235
        },
        "id": "r3Uya2mmPFG2",
        "outputId": "585725ae-a4e5-4ff6-864a-c5443b541544"
      },
      "source": [
        "df.loc[:\"20210914\",[\"B\",\"C\"]]"
      ],
      "execution_count": 20,
      "outputs": [
        {
          "output_type": "execute_result",
          "data": {
            "text/html": [
              "<div>\n",
              "<style scoped>\n",
              "    .dataframe tbody tr th:only-of-type {\n",
              "        vertical-align: middle;\n",
              "    }\n",
              "\n",
              "    .dataframe tbody tr th {\n",
              "        vertical-align: top;\n",
              "    }\n",
              "\n",
              "    .dataframe thead th {\n",
              "        text-align: right;\n",
              "    }\n",
              "</style>\n",
              "<table border=\"1\" class=\"dataframe\">\n",
              "  <thead>\n",
              "    <tr style=\"text-align: right;\">\n",
              "      <th></th>\n",
              "      <th>B</th>\n",
              "      <th>C</th>\n",
              "    </tr>\n",
              "  </thead>\n",
              "  <tbody>\n",
              "    <tr>\n",
              "      <th>2021-09-09</th>\n",
              "      <td>1.124941</td>\n",
              "      <td>-0.688764</td>\n",
              "    </tr>\n",
              "    <tr>\n",
              "      <th>2021-09-10</th>\n",
              "      <td>0.694608</td>\n",
              "      <td>1.429074</td>\n",
              "    </tr>\n",
              "    <tr>\n",
              "      <th>2021-09-11</th>\n",
              "      <td>-1.355795</td>\n",
              "      <td>-0.332258</td>\n",
              "    </tr>\n",
              "    <tr>\n",
              "      <th>2021-09-12</th>\n",
              "      <td>-0.731271</td>\n",
              "      <td>-1.510003</td>\n",
              "    </tr>\n",
              "    <tr>\n",
              "      <th>2021-09-13</th>\n",
              "      <td>0.056268</td>\n",
              "      <td>-0.347651</td>\n",
              "    </tr>\n",
              "    <tr>\n",
              "      <th>2021-09-14</th>\n",
              "      <td>2.142531</td>\n",
              "      <td>-0.762381</td>\n",
              "    </tr>\n",
              "  </tbody>\n",
              "</table>\n",
              "</div>"
            ],
            "text/plain": [
              "                   B         C\n",
              "2021-09-09  1.124941 -0.688764\n",
              "2021-09-10  0.694608  1.429074\n",
              "2021-09-11 -1.355795 -0.332258\n",
              "2021-09-12 -0.731271 -1.510003\n",
              "2021-09-13  0.056268 -0.347651\n",
              "2021-09-14  2.142531 -0.762381"
            ]
          },
          "metadata": {},
          "execution_count": 20
        }
      ]
    },
    {
      "cell_type": "code",
      "metadata": {
        "colab": {
          "base_uri": "https://localhost:8080/",
          "height": 111
        },
        "id": "2qJoteWEPUuA",
        "outputId": "1c01c9cc-e2fb-4d2b-f876-fea43eb215c6"
      },
      "source": [
        "df.iloc[3:5]"
      ],
      "execution_count": 21,
      "outputs": [
        {
          "output_type": "execute_result",
          "data": {
            "text/html": [
              "<div>\n",
              "<style scoped>\n",
              "    .dataframe tbody tr th:only-of-type {\n",
              "        vertical-align: middle;\n",
              "    }\n",
              "\n",
              "    .dataframe tbody tr th {\n",
              "        vertical-align: top;\n",
              "    }\n",
              "\n",
              "    .dataframe thead th {\n",
              "        text-align: right;\n",
              "    }\n",
              "</style>\n",
              "<table border=\"1\" class=\"dataframe\">\n",
              "  <thead>\n",
              "    <tr style=\"text-align: right;\">\n",
              "      <th></th>\n",
              "      <th>A</th>\n",
              "      <th>B</th>\n",
              "      <th>C</th>\n",
              "      <th>d</th>\n",
              "    </tr>\n",
              "  </thead>\n",
              "  <tbody>\n",
              "    <tr>\n",
              "      <th>2021-09-12</th>\n",
              "      <td>-0.556080</td>\n",
              "      <td>-0.731271</td>\n",
              "      <td>-1.510003</td>\n",
              "      <td>-0.126950</td>\n",
              "    </tr>\n",
              "    <tr>\n",
              "      <th>2021-09-13</th>\n",
              "      <td>-0.735221</td>\n",
              "      <td>0.056268</td>\n",
              "      <td>-0.347651</td>\n",
              "      <td>0.036559</td>\n",
              "    </tr>\n",
              "  </tbody>\n",
              "</table>\n",
              "</div>"
            ],
            "text/plain": [
              "                   A         B         C         d\n",
              "2021-09-12 -0.556080 -0.731271 -1.510003 -0.126950\n",
              "2021-09-13 -0.735221  0.056268 -0.347651  0.036559"
            ]
          },
          "metadata": {},
          "execution_count": 21
        }
      ]
    },
    {
      "cell_type": "code",
      "metadata": {
        "colab": {
          "base_uri": "https://localhost:8080/",
          "height": 173
        },
        "id": "tGJnLL7UQT6Z",
        "outputId": "de077b5c-d077-4cdd-b18d-a56f9797f22b"
      },
      "source": [
        "df[df[\"A\"]>0]"
      ],
      "execution_count": 22,
      "outputs": [
        {
          "output_type": "execute_result",
          "data": {
            "text/html": [
              "<div>\n",
              "<style scoped>\n",
              "    .dataframe tbody tr th:only-of-type {\n",
              "        vertical-align: middle;\n",
              "    }\n",
              "\n",
              "    .dataframe tbody tr th {\n",
              "        vertical-align: top;\n",
              "    }\n",
              "\n",
              "    .dataframe thead th {\n",
              "        text-align: right;\n",
              "    }\n",
              "</style>\n",
              "<table border=\"1\" class=\"dataframe\">\n",
              "  <thead>\n",
              "    <tr style=\"text-align: right;\">\n",
              "      <th></th>\n",
              "      <th>A</th>\n",
              "      <th>B</th>\n",
              "      <th>C</th>\n",
              "      <th>d</th>\n",
              "    </tr>\n",
              "  </thead>\n",
              "  <tbody>\n",
              "    <tr>\n",
              "      <th>2021-09-09</th>\n",
              "      <td>0.500779</td>\n",
              "      <td>1.124941</td>\n",
              "      <td>-0.688764</td>\n",
              "      <td>-1.428160</td>\n",
              "    </tr>\n",
              "    <tr>\n",
              "      <th>2021-09-10</th>\n",
              "      <td>0.010950</td>\n",
              "      <td>0.694608</td>\n",
              "      <td>1.429074</td>\n",
              "      <td>-0.073073</td>\n",
              "    </tr>\n",
              "    <tr>\n",
              "      <th>2021-09-15</th>\n",
              "      <td>0.015584</td>\n",
              "      <td>-0.096978</td>\n",
              "      <td>1.249749</td>\n",
              "      <td>0.683619</td>\n",
              "    </tr>\n",
              "    <tr>\n",
              "      <th>2021-09-17</th>\n",
              "      <td>2.527207</td>\n",
              "      <td>0.311504</td>\n",
              "      <td>-2.401647</td>\n",
              "      <td>0.114404</td>\n",
              "    </tr>\n",
              "  </tbody>\n",
              "</table>\n",
              "</div>"
            ],
            "text/plain": [
              "                   A         B         C         d\n",
              "2021-09-09  0.500779  1.124941 -0.688764 -1.428160\n",
              "2021-09-10  0.010950  0.694608  1.429074 -0.073073\n",
              "2021-09-15  0.015584 -0.096978  1.249749  0.683619\n",
              "2021-09-17  2.527207  0.311504 -2.401647  0.114404"
            ]
          },
          "metadata": {},
          "execution_count": 22
        }
      ]
    },
    {
      "cell_type": "code",
      "metadata": {
        "id": "iImh8EFMQkch"
      },
      "source": [
        "df2=df.reindex(index=B[0:4],columns=list(df.columns)+[\"E\"])"
      ],
      "execution_count": 23,
      "outputs": []
    },
    {
      "cell_type": "code",
      "metadata": {
        "colab": {
          "base_uri": "https://localhost:8080/",
          "height": 173
        },
        "id": "fYsjC7Pi1kDY",
        "outputId": "f91229eb-1a32-40df-e781-3b2ce2003dae"
      },
      "source": [
        "df2"
      ],
      "execution_count": 24,
      "outputs": [
        {
          "output_type": "execute_result",
          "data": {
            "text/html": [
              "<div>\n",
              "<style scoped>\n",
              "    .dataframe tbody tr th:only-of-type {\n",
              "        vertical-align: middle;\n",
              "    }\n",
              "\n",
              "    .dataframe tbody tr th {\n",
              "        vertical-align: top;\n",
              "    }\n",
              "\n",
              "    .dataframe thead th {\n",
              "        text-align: right;\n",
              "    }\n",
              "</style>\n",
              "<table border=\"1\" class=\"dataframe\">\n",
              "  <thead>\n",
              "    <tr style=\"text-align: right;\">\n",
              "      <th></th>\n",
              "      <th>A</th>\n",
              "      <th>B</th>\n",
              "      <th>C</th>\n",
              "      <th>d</th>\n",
              "      <th>E</th>\n",
              "    </tr>\n",
              "  </thead>\n",
              "  <tbody>\n",
              "    <tr>\n",
              "      <th>2021-09-09</th>\n",
              "      <td>0.500779</td>\n",
              "      <td>1.124941</td>\n",
              "      <td>-0.688764</td>\n",
              "      <td>-1.428160</td>\n",
              "      <td>NaN</td>\n",
              "    </tr>\n",
              "    <tr>\n",
              "      <th>2021-09-10</th>\n",
              "      <td>0.010950</td>\n",
              "      <td>0.694608</td>\n",
              "      <td>1.429074</td>\n",
              "      <td>-0.073073</td>\n",
              "      <td>NaN</td>\n",
              "    </tr>\n",
              "    <tr>\n",
              "      <th>2021-09-11</th>\n",
              "      <td>-1.110750</td>\n",
              "      <td>-1.355795</td>\n",
              "      <td>-0.332258</td>\n",
              "      <td>-0.400336</td>\n",
              "      <td>NaN</td>\n",
              "    </tr>\n",
              "    <tr>\n",
              "      <th>2021-09-12</th>\n",
              "      <td>-0.556080</td>\n",
              "      <td>-0.731271</td>\n",
              "      <td>-1.510003</td>\n",
              "      <td>-0.126950</td>\n",
              "      <td>NaN</td>\n",
              "    </tr>\n",
              "  </tbody>\n",
              "</table>\n",
              "</div>"
            ],
            "text/plain": [
              "                   A         B         C         d   E\n",
              "2021-09-09  0.500779  1.124941 -0.688764 -1.428160 NaN\n",
              "2021-09-10  0.010950  0.694608  1.429074 -0.073073 NaN\n",
              "2021-09-11 -1.110750 -1.355795 -0.332258 -0.400336 NaN\n",
              "2021-09-12 -0.556080 -0.731271 -1.510003 -0.126950 NaN"
            ]
          },
          "metadata": {},
          "execution_count": 24
        }
      ]
    },
    {
      "cell_type": "code",
      "metadata": {
        "id": "PvmptI1612sp"
      },
      "source": [
        "df2.loc[B[0]:B[1],\"E\"]=1"
      ],
      "execution_count": 25,
      "outputs": []
    },
    {
      "cell_type": "code",
      "metadata": {
        "colab": {
          "base_uri": "https://localhost:8080/",
          "height": 173
        },
        "id": "TTFA5elp2Iqr",
        "outputId": "a555d75f-349c-4256-cf87-dfe4d381c4f2"
      },
      "source": [
        "df2"
      ],
      "execution_count": 26,
      "outputs": [
        {
          "output_type": "execute_result",
          "data": {
            "text/html": [
              "<div>\n",
              "<style scoped>\n",
              "    .dataframe tbody tr th:only-of-type {\n",
              "        vertical-align: middle;\n",
              "    }\n",
              "\n",
              "    .dataframe tbody tr th {\n",
              "        vertical-align: top;\n",
              "    }\n",
              "\n",
              "    .dataframe thead th {\n",
              "        text-align: right;\n",
              "    }\n",
              "</style>\n",
              "<table border=\"1\" class=\"dataframe\">\n",
              "  <thead>\n",
              "    <tr style=\"text-align: right;\">\n",
              "      <th></th>\n",
              "      <th>A</th>\n",
              "      <th>B</th>\n",
              "      <th>C</th>\n",
              "      <th>d</th>\n",
              "      <th>E</th>\n",
              "    </tr>\n",
              "  </thead>\n",
              "  <tbody>\n",
              "    <tr>\n",
              "      <th>2021-09-09</th>\n",
              "      <td>0.500779</td>\n",
              "      <td>1.124941</td>\n",
              "      <td>-0.688764</td>\n",
              "      <td>-1.428160</td>\n",
              "      <td>1.0</td>\n",
              "    </tr>\n",
              "    <tr>\n",
              "      <th>2021-09-10</th>\n",
              "      <td>0.010950</td>\n",
              "      <td>0.694608</td>\n",
              "      <td>1.429074</td>\n",
              "      <td>-0.073073</td>\n",
              "      <td>1.0</td>\n",
              "    </tr>\n",
              "    <tr>\n",
              "      <th>2021-09-11</th>\n",
              "      <td>-1.110750</td>\n",
              "      <td>-1.355795</td>\n",
              "      <td>-0.332258</td>\n",
              "      <td>-0.400336</td>\n",
              "      <td>NaN</td>\n",
              "    </tr>\n",
              "    <tr>\n",
              "      <th>2021-09-12</th>\n",
              "      <td>-0.556080</td>\n",
              "      <td>-0.731271</td>\n",
              "      <td>-1.510003</td>\n",
              "      <td>-0.126950</td>\n",
              "      <td>NaN</td>\n",
              "    </tr>\n",
              "  </tbody>\n",
              "</table>\n",
              "</div>"
            ],
            "text/plain": [
              "                   A         B         C         d    E\n",
              "2021-09-09  0.500779  1.124941 -0.688764 -1.428160  1.0\n",
              "2021-09-10  0.010950  0.694608  1.429074 -0.073073  1.0\n",
              "2021-09-11 -1.110750 -1.355795 -0.332258 -0.400336  NaN\n",
              "2021-09-12 -0.556080 -0.731271 -1.510003 -0.126950  NaN"
            ]
          },
          "metadata": {},
          "execution_count": 26
        }
      ]
    },
    {
      "cell_type": "code",
      "metadata": {
        "colab": {
          "base_uri": "https://localhost:8080/",
          "height": 111
        },
        "id": "3akYkCHo2KFT",
        "outputId": "31905cef-9de2-4694-c0a6-2c2f7f68a60d"
      },
      "source": [
        "df2.dropna()"
      ],
      "execution_count": 27,
      "outputs": [
        {
          "output_type": "execute_result",
          "data": {
            "text/html": [
              "<div>\n",
              "<style scoped>\n",
              "    .dataframe tbody tr th:only-of-type {\n",
              "        vertical-align: middle;\n",
              "    }\n",
              "\n",
              "    .dataframe tbody tr th {\n",
              "        vertical-align: top;\n",
              "    }\n",
              "\n",
              "    .dataframe thead th {\n",
              "        text-align: right;\n",
              "    }\n",
              "</style>\n",
              "<table border=\"1\" class=\"dataframe\">\n",
              "  <thead>\n",
              "    <tr style=\"text-align: right;\">\n",
              "      <th></th>\n",
              "      <th>A</th>\n",
              "      <th>B</th>\n",
              "      <th>C</th>\n",
              "      <th>d</th>\n",
              "      <th>E</th>\n",
              "    </tr>\n",
              "  </thead>\n",
              "  <tbody>\n",
              "    <tr>\n",
              "      <th>2021-09-09</th>\n",
              "      <td>0.500779</td>\n",
              "      <td>1.124941</td>\n",
              "      <td>-0.688764</td>\n",
              "      <td>-1.428160</td>\n",
              "      <td>1.0</td>\n",
              "    </tr>\n",
              "    <tr>\n",
              "      <th>2021-09-10</th>\n",
              "      <td>0.010950</td>\n",
              "      <td>0.694608</td>\n",
              "      <td>1.429074</td>\n",
              "      <td>-0.073073</td>\n",
              "      <td>1.0</td>\n",
              "    </tr>\n",
              "  </tbody>\n",
              "</table>\n",
              "</div>"
            ],
            "text/plain": [
              "                   A         B         C         d    E\n",
              "2021-09-09  0.500779  1.124941 -0.688764 -1.428160  1.0\n",
              "2021-09-10  0.010950  0.694608  1.429074 -0.073073  1.0"
            ]
          },
          "metadata": {},
          "execution_count": 27
        }
      ]
    },
    {
      "cell_type": "code",
      "metadata": {
        "colab": {
          "base_uri": "https://localhost:8080/",
          "height": 173
        },
        "id": "ySS5QatO2ZuE",
        "outputId": "df88f6da-99c4-4985-ce13-1690b1627a08"
      },
      "source": [
        "df2.fillna(value=2)"
      ],
      "execution_count": 28,
      "outputs": [
        {
          "output_type": "execute_result",
          "data": {
            "text/html": [
              "<div>\n",
              "<style scoped>\n",
              "    .dataframe tbody tr th:only-of-type {\n",
              "        vertical-align: middle;\n",
              "    }\n",
              "\n",
              "    .dataframe tbody tr th {\n",
              "        vertical-align: top;\n",
              "    }\n",
              "\n",
              "    .dataframe thead th {\n",
              "        text-align: right;\n",
              "    }\n",
              "</style>\n",
              "<table border=\"1\" class=\"dataframe\">\n",
              "  <thead>\n",
              "    <tr style=\"text-align: right;\">\n",
              "      <th></th>\n",
              "      <th>A</th>\n",
              "      <th>B</th>\n",
              "      <th>C</th>\n",
              "      <th>d</th>\n",
              "      <th>E</th>\n",
              "    </tr>\n",
              "  </thead>\n",
              "  <tbody>\n",
              "    <tr>\n",
              "      <th>2021-09-09</th>\n",
              "      <td>0.500779</td>\n",
              "      <td>1.124941</td>\n",
              "      <td>-0.688764</td>\n",
              "      <td>-1.428160</td>\n",
              "      <td>1.0</td>\n",
              "    </tr>\n",
              "    <tr>\n",
              "      <th>2021-09-10</th>\n",
              "      <td>0.010950</td>\n",
              "      <td>0.694608</td>\n",
              "      <td>1.429074</td>\n",
              "      <td>-0.073073</td>\n",
              "      <td>1.0</td>\n",
              "    </tr>\n",
              "    <tr>\n",
              "      <th>2021-09-11</th>\n",
              "      <td>-1.110750</td>\n",
              "      <td>-1.355795</td>\n",
              "      <td>-0.332258</td>\n",
              "      <td>-0.400336</td>\n",
              "      <td>2.0</td>\n",
              "    </tr>\n",
              "    <tr>\n",
              "      <th>2021-09-12</th>\n",
              "      <td>-0.556080</td>\n",
              "      <td>-0.731271</td>\n",
              "      <td>-1.510003</td>\n",
              "      <td>-0.126950</td>\n",
              "      <td>2.0</td>\n",
              "    </tr>\n",
              "  </tbody>\n",
              "</table>\n",
              "</div>"
            ],
            "text/plain": [
              "                   A         B         C         d    E\n",
              "2021-09-09  0.500779  1.124941 -0.688764 -1.428160  1.0\n",
              "2021-09-10  0.010950  0.694608  1.429074 -0.073073  1.0\n",
              "2021-09-11 -1.110750 -1.355795 -0.332258 -0.400336  2.0\n",
              "2021-09-12 -0.556080 -0.731271 -1.510003 -0.126950  2.0"
            ]
          },
          "metadata": {},
          "execution_count": 28
        }
      ]
    },
    {
      "cell_type": "code",
      "metadata": {
        "colab": {
          "base_uri": "https://localhost:8080/",
          "height": 173
        },
        "id": "du7WP6hJ2nAU",
        "outputId": "7d2ecd4b-77b3-4b15-d16b-5e15345bcf19"
      },
      "source": [
        "pd.isna(df2)"
      ],
      "execution_count": 29,
      "outputs": [
        {
          "output_type": "execute_result",
          "data": {
            "text/html": [
              "<div>\n",
              "<style scoped>\n",
              "    .dataframe tbody tr th:only-of-type {\n",
              "        vertical-align: middle;\n",
              "    }\n",
              "\n",
              "    .dataframe tbody tr th {\n",
              "        vertical-align: top;\n",
              "    }\n",
              "\n",
              "    .dataframe thead th {\n",
              "        text-align: right;\n",
              "    }\n",
              "</style>\n",
              "<table border=\"1\" class=\"dataframe\">\n",
              "  <thead>\n",
              "    <tr style=\"text-align: right;\">\n",
              "      <th></th>\n",
              "      <th>A</th>\n",
              "      <th>B</th>\n",
              "      <th>C</th>\n",
              "      <th>d</th>\n",
              "      <th>E</th>\n",
              "    </tr>\n",
              "  </thead>\n",
              "  <tbody>\n",
              "    <tr>\n",
              "      <th>2021-09-09</th>\n",
              "      <td>False</td>\n",
              "      <td>False</td>\n",
              "      <td>False</td>\n",
              "      <td>False</td>\n",
              "      <td>False</td>\n",
              "    </tr>\n",
              "    <tr>\n",
              "      <th>2021-09-10</th>\n",
              "      <td>False</td>\n",
              "      <td>False</td>\n",
              "      <td>False</td>\n",
              "      <td>False</td>\n",
              "      <td>False</td>\n",
              "    </tr>\n",
              "    <tr>\n",
              "      <th>2021-09-11</th>\n",
              "      <td>False</td>\n",
              "      <td>False</td>\n",
              "      <td>False</td>\n",
              "      <td>False</td>\n",
              "      <td>True</td>\n",
              "    </tr>\n",
              "    <tr>\n",
              "      <th>2021-09-12</th>\n",
              "      <td>False</td>\n",
              "      <td>False</td>\n",
              "      <td>False</td>\n",
              "      <td>False</td>\n",
              "      <td>True</td>\n",
              "    </tr>\n",
              "  </tbody>\n",
              "</table>\n",
              "</div>"
            ],
            "text/plain": [
              "                A      B      C      d      E\n",
              "2021-09-09  False  False  False  False  False\n",
              "2021-09-10  False  False  False  False  False\n",
              "2021-09-11  False  False  False  False   True\n",
              "2021-09-12  False  False  False  False   True"
            ]
          },
          "metadata": {},
          "execution_count": 29
        }
      ]
    },
    {
      "cell_type": "markdown",
      "metadata": {
        "id": "hplDlQ3a2xHw"
      },
      "source": [
        "# Pandas Operations\n",
        "\n",
        "* Different operations can help explore the data to reach conclusions"
      ]
    },
    {
      "cell_type": "code",
      "metadata": {
        "colab": {
          "base_uri": "https://localhost:8080/"
        },
        "id": "cYjjrKgT25rm",
        "outputId": "2dc139c0-b4d4-43b0-c4ee-3d63085e3c16"
      },
      "source": [
        "df.mean()"
      ],
      "execution_count": 30,
      "outputs": [
        {
          "output_type": "execute_result",
          "data": {
            "text/plain": [
              "A    0.012011\n",
              "B    0.195323\n",
              "C   -0.537529\n",
              "d   -0.053376\n",
              "dtype: float64"
            ]
          },
          "metadata": {},
          "execution_count": 30
        }
      ]
    },
    {
      "cell_type": "code",
      "metadata": {
        "colab": {
          "base_uri": "https://localhost:8080/"
        },
        "id": "6CKgcbxT3W30",
        "outputId": "dcc48bfb-1a98-4c3e-f633-e275edc5f9bd"
      },
      "source": [
        "df.mean(1)"
      ],
      "execution_count": 31,
      "outputs": [
        {
          "output_type": "execute_result",
          "data": {
            "text/plain": [
              "2021-09-09   -0.122801\n",
              "2021-09-10    0.515390\n",
              "2021-09-11   -0.799785\n",
              "2021-09-12   -0.731076\n",
              "2021-09-13   -0.247511\n",
              "2021-09-14    0.659943\n",
              "2021-09-15    0.462993\n",
              "2021-09-16   -0.663815\n",
              "2021-09-17    0.137867\n",
              "2021-09-18   -0.170133\n",
              "Freq: D, dtype: float64"
            ]
          },
          "metadata": {},
          "execution_count": 31
        }
      ]
    },
    {
      "cell_type": "code",
      "metadata": {
        "id": "Px8qkhRR3aXH"
      },
      "source": [
        "s=pd.Series([1,2,3,np.nan,4,5,6,7,8,9],index=B).shift(2)"
      ],
      "execution_count": 32,
      "outputs": []
    },
    {
      "cell_type": "code",
      "metadata": {
        "colab": {
          "base_uri": "https://localhost:8080/"
        },
        "id": "qDGxBtc-38Ah",
        "outputId": "c0171596-df68-4fb9-cec3-895295a40e03"
      },
      "source": [
        "s"
      ],
      "execution_count": 33,
      "outputs": [
        {
          "output_type": "execute_result",
          "data": {
            "text/plain": [
              "2021-09-09    NaN\n",
              "2021-09-10    NaN\n",
              "2021-09-11    1.0\n",
              "2021-09-12    2.0\n",
              "2021-09-13    3.0\n",
              "2021-09-14    NaN\n",
              "2021-09-15    4.0\n",
              "2021-09-16    5.0\n",
              "2021-09-17    6.0\n",
              "2021-09-18    7.0\n",
              "Freq: D, dtype: float64"
            ]
          },
          "metadata": {},
          "execution_count": 33
        }
      ]
    },
    {
      "cell_type": "code",
      "metadata": {
        "colab": {
          "base_uri": "https://localhost:8080/",
          "height": 359
        },
        "id": "neM4lHNh39dT",
        "outputId": "f53040d4-cc45-4e1e-e02b-e9dd4a10bca9"
      },
      "source": [
        "df.sub(s,axis=\"index\")"
      ],
      "execution_count": 34,
      "outputs": [
        {
          "output_type": "execute_result",
          "data": {
            "text/html": [
              "<div>\n",
              "<style scoped>\n",
              "    .dataframe tbody tr th:only-of-type {\n",
              "        vertical-align: middle;\n",
              "    }\n",
              "\n",
              "    .dataframe tbody tr th {\n",
              "        vertical-align: top;\n",
              "    }\n",
              "\n",
              "    .dataframe thead th {\n",
              "        text-align: right;\n",
              "    }\n",
              "</style>\n",
              "<table border=\"1\" class=\"dataframe\">\n",
              "  <thead>\n",
              "    <tr style=\"text-align: right;\">\n",
              "      <th></th>\n",
              "      <th>A</th>\n",
              "      <th>B</th>\n",
              "      <th>C</th>\n",
              "      <th>d</th>\n",
              "    </tr>\n",
              "  </thead>\n",
              "  <tbody>\n",
              "    <tr>\n",
              "      <th>2021-09-09</th>\n",
              "      <td>NaN</td>\n",
              "      <td>NaN</td>\n",
              "      <td>NaN</td>\n",
              "      <td>NaN</td>\n",
              "    </tr>\n",
              "    <tr>\n",
              "      <th>2021-09-10</th>\n",
              "      <td>NaN</td>\n",
              "      <td>NaN</td>\n",
              "      <td>NaN</td>\n",
              "      <td>NaN</td>\n",
              "    </tr>\n",
              "    <tr>\n",
              "      <th>2021-09-11</th>\n",
              "      <td>-2.110750</td>\n",
              "      <td>-2.355795</td>\n",
              "      <td>-1.332258</td>\n",
              "      <td>-1.400336</td>\n",
              "    </tr>\n",
              "    <tr>\n",
              "      <th>2021-09-12</th>\n",
              "      <td>-2.556080</td>\n",
              "      <td>-2.731271</td>\n",
              "      <td>-3.510003</td>\n",
              "      <td>-2.126950</td>\n",
              "    </tr>\n",
              "    <tr>\n",
              "      <th>2021-09-13</th>\n",
              "      <td>-3.735221</td>\n",
              "      <td>-2.943732</td>\n",
              "      <td>-3.347651</td>\n",
              "      <td>-2.963441</td>\n",
              "    </tr>\n",
              "    <tr>\n",
              "      <th>2021-09-14</th>\n",
              "      <td>NaN</td>\n",
              "      <td>NaN</td>\n",
              "      <td>NaN</td>\n",
              "      <td>NaN</td>\n",
              "    </tr>\n",
              "    <tr>\n",
              "      <th>2021-09-15</th>\n",
              "      <td>-3.984416</td>\n",
              "      <td>-4.096978</td>\n",
              "      <td>-2.750251</td>\n",
              "      <td>-3.316381</td>\n",
              "    </tr>\n",
              "    <tr>\n",
              "      <th>2021-09-16</th>\n",
              "      <td>-5.191496</td>\n",
              "      <td>-5.844129</td>\n",
              "      <td>-5.728324</td>\n",
              "      <td>-5.891311</td>\n",
              "    </tr>\n",
              "    <tr>\n",
              "      <th>2021-09-17</th>\n",
              "      <td>-3.472793</td>\n",
              "      <td>-5.688496</td>\n",
              "      <td>-8.401647</td>\n",
              "      <td>-5.885596</td>\n",
              "    </tr>\n",
              "    <tr>\n",
              "      <th>2021-09-18</th>\n",
              "      <td>-7.296821</td>\n",
              "      <td>-6.348449</td>\n",
              "      <td>-8.283087</td>\n",
              "      <td>-6.752173</td>\n",
              "    </tr>\n",
              "  </tbody>\n",
              "</table>\n",
              "</div>"
            ],
            "text/plain": [
              "                   A         B         C         d\n",
              "2021-09-09       NaN       NaN       NaN       NaN\n",
              "2021-09-10       NaN       NaN       NaN       NaN\n",
              "2021-09-11 -2.110750 -2.355795 -1.332258 -1.400336\n",
              "2021-09-12 -2.556080 -2.731271 -3.510003 -2.126950\n",
              "2021-09-13 -3.735221 -2.943732 -3.347651 -2.963441\n",
              "2021-09-14       NaN       NaN       NaN       NaN\n",
              "2021-09-15 -3.984416 -4.096978 -2.750251 -3.316381\n",
              "2021-09-16 -5.191496 -5.844129 -5.728324 -5.891311\n",
              "2021-09-17 -3.472793 -5.688496 -8.401647 -5.885596\n",
              "2021-09-18 -7.296821 -6.348449 -8.283087 -6.752173"
            ]
          },
          "metadata": {},
          "execution_count": 34
        }
      ]
    },
    {
      "cell_type": "code",
      "metadata": {
        "colab": {
          "base_uri": "https://localhost:8080/",
          "height": 359
        },
        "id": "LLD0RiwP4Hkt",
        "outputId": "697b5392-b8de-4e4a-fd1c-4ff71d59f0e1"
      },
      "source": [
        "df"
      ],
      "execution_count": 35,
      "outputs": [
        {
          "output_type": "execute_result",
          "data": {
            "text/html": [
              "<div>\n",
              "<style scoped>\n",
              "    .dataframe tbody tr th:only-of-type {\n",
              "        vertical-align: middle;\n",
              "    }\n",
              "\n",
              "    .dataframe tbody tr th {\n",
              "        vertical-align: top;\n",
              "    }\n",
              "\n",
              "    .dataframe thead th {\n",
              "        text-align: right;\n",
              "    }\n",
              "</style>\n",
              "<table border=\"1\" class=\"dataframe\">\n",
              "  <thead>\n",
              "    <tr style=\"text-align: right;\">\n",
              "      <th></th>\n",
              "      <th>A</th>\n",
              "      <th>B</th>\n",
              "      <th>C</th>\n",
              "      <th>d</th>\n",
              "    </tr>\n",
              "  </thead>\n",
              "  <tbody>\n",
              "    <tr>\n",
              "      <th>2021-09-09</th>\n",
              "      <td>0.500779</td>\n",
              "      <td>1.124941</td>\n",
              "      <td>-0.688764</td>\n",
              "      <td>-1.428160</td>\n",
              "    </tr>\n",
              "    <tr>\n",
              "      <th>2021-09-10</th>\n",
              "      <td>0.010950</td>\n",
              "      <td>0.694608</td>\n",
              "      <td>1.429074</td>\n",
              "      <td>-0.073073</td>\n",
              "    </tr>\n",
              "    <tr>\n",
              "      <th>2021-09-11</th>\n",
              "      <td>-1.110750</td>\n",
              "      <td>-1.355795</td>\n",
              "      <td>-0.332258</td>\n",
              "      <td>-0.400336</td>\n",
              "    </tr>\n",
              "    <tr>\n",
              "      <th>2021-09-12</th>\n",
              "      <td>-0.556080</td>\n",
              "      <td>-0.731271</td>\n",
              "      <td>-1.510003</td>\n",
              "      <td>-0.126950</td>\n",
              "    </tr>\n",
              "    <tr>\n",
              "      <th>2021-09-13</th>\n",
              "      <td>-0.735221</td>\n",
              "      <td>0.056268</td>\n",
              "      <td>-0.347651</td>\n",
              "      <td>0.036559</td>\n",
              "    </tr>\n",
              "    <tr>\n",
              "      <th>2021-09-14</th>\n",
              "      <td>-0.044042</td>\n",
              "      <td>2.142531</td>\n",
              "      <td>-0.762381</td>\n",
              "      <td>1.303663</td>\n",
              "    </tr>\n",
              "    <tr>\n",
              "      <th>2021-09-15</th>\n",
              "      <td>0.015584</td>\n",
              "      <td>-0.096978</td>\n",
              "      <td>1.249749</td>\n",
              "      <td>0.683619</td>\n",
              "    </tr>\n",
              "    <tr>\n",
              "      <th>2021-09-16</th>\n",
              "      <td>-0.191496</td>\n",
              "      <td>-0.844129</td>\n",
              "      <td>-0.728324</td>\n",
              "      <td>-0.891311</td>\n",
              "    </tr>\n",
              "    <tr>\n",
              "      <th>2021-09-17</th>\n",
              "      <td>2.527207</td>\n",
              "      <td>0.311504</td>\n",
              "      <td>-2.401647</td>\n",
              "      <td>0.114404</td>\n",
              "    </tr>\n",
              "    <tr>\n",
              "      <th>2021-09-18</th>\n",
              "      <td>-0.296821</td>\n",
              "      <td>0.651551</td>\n",
              "      <td>-1.283087</td>\n",
              "      <td>0.247827</td>\n",
              "    </tr>\n",
              "  </tbody>\n",
              "</table>\n",
              "</div>"
            ],
            "text/plain": [
              "                   A         B         C         d\n",
              "2021-09-09  0.500779  1.124941 -0.688764 -1.428160\n",
              "2021-09-10  0.010950  0.694608  1.429074 -0.073073\n",
              "2021-09-11 -1.110750 -1.355795 -0.332258 -0.400336\n",
              "2021-09-12 -0.556080 -0.731271 -1.510003 -0.126950\n",
              "2021-09-13 -0.735221  0.056268 -0.347651  0.036559\n",
              "2021-09-14 -0.044042  2.142531 -0.762381  1.303663\n",
              "2021-09-15  0.015584 -0.096978  1.249749  0.683619\n",
              "2021-09-16 -0.191496 -0.844129 -0.728324 -0.891311\n",
              "2021-09-17  2.527207  0.311504 -2.401647  0.114404\n",
              "2021-09-18 -0.296821  0.651551 -1.283087  0.247827"
            ]
          },
          "metadata": {},
          "execution_count": 35
        }
      ]
    },
    {
      "cell_type": "code",
      "metadata": {
        "colab": {
          "base_uri": "https://localhost:8080/",
          "height": 359
        },
        "id": "0j83jMPE4f4w",
        "outputId": "d24f6e8c-1c47-410e-f46b-f87a287b0e2a"
      },
      "source": [
        "df.apply(np.cumsum)"
      ],
      "execution_count": 36,
      "outputs": [
        {
          "output_type": "execute_result",
          "data": {
            "text/html": [
              "<div>\n",
              "<style scoped>\n",
              "    .dataframe tbody tr th:only-of-type {\n",
              "        vertical-align: middle;\n",
              "    }\n",
              "\n",
              "    .dataframe tbody tr th {\n",
              "        vertical-align: top;\n",
              "    }\n",
              "\n",
              "    .dataframe thead th {\n",
              "        text-align: right;\n",
              "    }\n",
              "</style>\n",
              "<table border=\"1\" class=\"dataframe\">\n",
              "  <thead>\n",
              "    <tr style=\"text-align: right;\">\n",
              "      <th></th>\n",
              "      <th>A</th>\n",
              "      <th>B</th>\n",
              "      <th>C</th>\n",
              "      <th>d</th>\n",
              "    </tr>\n",
              "  </thead>\n",
              "  <tbody>\n",
              "    <tr>\n",
              "      <th>2021-09-09</th>\n",
              "      <td>0.500779</td>\n",
              "      <td>1.124941</td>\n",
              "      <td>-0.688764</td>\n",
              "      <td>-1.428160</td>\n",
              "    </tr>\n",
              "    <tr>\n",
              "      <th>2021-09-10</th>\n",
              "      <td>0.511729</td>\n",
              "      <td>1.819549</td>\n",
              "      <td>0.740309</td>\n",
              "      <td>-1.501233</td>\n",
              "    </tr>\n",
              "    <tr>\n",
              "      <th>2021-09-11</th>\n",
              "      <td>-0.599021</td>\n",
              "      <td>0.463754</td>\n",
              "      <td>0.408051</td>\n",
              "      <td>-1.901569</td>\n",
              "    </tr>\n",
              "    <tr>\n",
              "      <th>2021-09-12</th>\n",
              "      <td>-1.155101</td>\n",
              "      <td>-0.267517</td>\n",
              "      <td>-1.101951</td>\n",
              "      <td>-2.028520</td>\n",
              "    </tr>\n",
              "    <tr>\n",
              "      <th>2021-09-13</th>\n",
              "      <td>-1.890322</td>\n",
              "      <td>-0.211248</td>\n",
              "      <td>-1.449603</td>\n",
              "      <td>-1.991961</td>\n",
              "    </tr>\n",
              "    <tr>\n",
              "      <th>2021-09-14</th>\n",
              "      <td>-1.934364</td>\n",
              "      <td>1.931282</td>\n",
              "      <td>-2.211984</td>\n",
              "      <td>-0.688298</td>\n",
              "    </tr>\n",
              "    <tr>\n",
              "      <th>2021-09-15</th>\n",
              "      <td>-1.918781</td>\n",
              "      <td>1.834304</td>\n",
              "      <td>-0.962235</td>\n",
              "      <td>-0.004679</td>\n",
              "    </tr>\n",
              "    <tr>\n",
              "      <th>2021-09-16</th>\n",
              "      <td>-2.110276</td>\n",
              "      <td>0.990176</td>\n",
              "      <td>-1.690559</td>\n",
              "      <td>-0.895991</td>\n",
              "    </tr>\n",
              "    <tr>\n",
              "      <th>2021-09-17</th>\n",
              "      <td>0.416931</td>\n",
              "      <td>1.301680</td>\n",
              "      <td>-4.092205</td>\n",
              "      <td>-0.781587</td>\n",
              "    </tr>\n",
              "    <tr>\n",
              "      <th>2021-09-18</th>\n",
              "      <td>0.120110</td>\n",
              "      <td>1.953231</td>\n",
              "      <td>-5.375293</td>\n",
              "      <td>-0.533760</td>\n",
              "    </tr>\n",
              "  </tbody>\n",
              "</table>\n",
              "</div>"
            ],
            "text/plain": [
              "                   A         B         C         d\n",
              "2021-09-09  0.500779  1.124941 -0.688764 -1.428160\n",
              "2021-09-10  0.511729  1.819549  0.740309 -1.501233\n",
              "2021-09-11 -0.599021  0.463754  0.408051 -1.901569\n",
              "2021-09-12 -1.155101 -0.267517 -1.101951 -2.028520\n",
              "2021-09-13 -1.890322 -0.211248 -1.449603 -1.991961\n",
              "2021-09-14 -1.934364  1.931282 -2.211984 -0.688298\n",
              "2021-09-15 -1.918781  1.834304 -0.962235 -0.004679\n",
              "2021-09-16 -2.110276  0.990176 -1.690559 -0.895991\n",
              "2021-09-17  0.416931  1.301680 -4.092205 -0.781587\n",
              "2021-09-18  0.120110  1.953231 -5.375293 -0.533760"
            ]
          },
          "metadata": {},
          "execution_count": 36
        }
      ]
    },
    {
      "cell_type": "code",
      "metadata": {
        "colab": {
          "base_uri": "https://localhost:8080/"
        },
        "id": "tcn4_-Q14vor",
        "outputId": "f2b90867-40ee-4453-9033-991142e57d2c"
      },
      "source": [
        "df.apply(lambda x:x.max()-x.min())"
      ],
      "execution_count": 37,
      "outputs": [
        {
          "output_type": "execute_result",
          "data": {
            "text/plain": [
              "A    3.637957\n",
              "B    3.498326\n",
              "C    3.830720\n",
              "d    2.731823\n",
              "dtype: float64"
            ]
          },
          "metadata": {},
          "execution_count": 37
        }
      ]
    },
    {
      "cell_type": "code",
      "metadata": {
        "colab": {
          "base_uri": "https://localhost:8080/"
        },
        "id": "uHGNlFOr49q3",
        "outputId": "9e4a21d3-a513-481f-cbea-edc084d3c06a"
      },
      "source": [
        "s.value_counts()"
      ],
      "execution_count": 38,
      "outputs": [
        {
          "output_type": "execute_result",
          "data": {
            "text/plain": [
              "7.0    1\n",
              "6.0    1\n",
              "5.0    1\n",
              "4.0    1\n",
              "3.0    1\n",
              "2.0    1\n",
              "1.0    1\n",
              "dtype: int64"
            ]
          },
          "metadata": {},
          "execution_count": 38
        }
      ]
    },
    {
      "cell_type": "code",
      "metadata": {
        "id": "gkdc92MZ5OHo"
      },
      "source": [
        "s=pd.Series([\"Pavan\",\"Python\",\"Google Colab\",np.nan,\"Cricket\",\"World\"])"
      ],
      "execution_count": 39,
      "outputs": []
    },
    {
      "cell_type": "code",
      "metadata": {
        "colab": {
          "base_uri": "https://localhost:8080/"
        },
        "id": "YbiJmVv_5ovg",
        "outputId": "8de1d120-1dd5-4421-bda2-e47342f2b84d"
      },
      "source": [
        "s.str.upper()"
      ],
      "execution_count": 40,
      "outputs": [
        {
          "output_type": "execute_result",
          "data": {
            "text/plain": [
              "0           PAVAN\n",
              "1          PYTHON\n",
              "2    GOOGLE COLAB\n",
              "3             NaN\n",
              "4         CRICKET\n",
              "5           WORLD\n",
              "dtype: object"
            ]
          },
          "metadata": {},
          "execution_count": 40
        }
      ]
    },
    {
      "cell_type": "code",
      "metadata": {
        "colab": {
          "base_uri": "https://localhost:8080/"
        },
        "id": "L0ICrMY25skq",
        "outputId": "f74ee74e-fa3f-4cff-8dd4-047979326954"
      },
      "source": [
        "s.str.lower()"
      ],
      "execution_count": 41,
      "outputs": [
        {
          "output_type": "execute_result",
          "data": {
            "text/plain": [
              "0           pavan\n",
              "1          python\n",
              "2    google colab\n",
              "3             NaN\n",
              "4         cricket\n",
              "5           world\n",
              "dtype: object"
            ]
          },
          "metadata": {},
          "execution_count": 41
        }
      ]
    },
    {
      "cell_type": "code",
      "metadata": {
        "id": "vsaeEbhk5woy"
      },
      "source": [
        "df=pd.DataFrame(np.random.randn(10,4))"
      ],
      "execution_count": 42,
      "outputs": []
    },
    {
      "cell_type": "code",
      "metadata": {
        "id": "oQOlmrpF6Bkr"
      },
      "source": [
        "df2=[df[:3],df[3:7],df[7:]] # Breaking the data into different parts "
      ],
      "execution_count": 43,
      "outputs": []
    },
    {
      "cell_type": "code",
      "metadata": {
        "colab": {
          "base_uri": "https://localhost:8080/"
        },
        "id": "WjqmhJo06Ch1",
        "outputId": "39c30a84-cb05-4d38-956c-27b3095aff4f"
      },
      "source": [
        "df2"
      ],
      "execution_count": 44,
      "outputs": [
        {
          "output_type": "execute_result",
          "data": {
            "text/plain": [
              "[          0         1         2         3\n",
              " 0 -0.165586  0.295377 -0.764595 -0.124220\n",
              " 1  1.588828 -1.172458 -0.250395 -2.477230\n",
              " 2 -1.416540 -0.382216 -0.406775  0.778291,\n",
              "           0         1         2         3\n",
              " 3  0.279888 -1.060189 -0.314845  0.202702\n",
              " 4 -0.381790 -1.025426 -0.734016  1.452617\n",
              " 5 -2.978255 -1.482816  0.390221 -0.251308\n",
              " 6  1.011863 -1.038880 -0.166630 -1.418066,\n",
              "           0         1         2         3\n",
              " 7 -0.704926 -0.601205  1.046612  1.139414\n",
              " 8 -0.364104 -0.171115 -0.639251  0.765255\n",
              " 9 -0.591634  0.637926 -0.083405  0.057943]"
            ]
          },
          "metadata": {},
          "execution_count": 44
        }
      ]
    },
    {
      "cell_type": "code",
      "metadata": {
        "colab": {
          "base_uri": "https://localhost:8080/",
          "height": 359
        },
        "id": "-k3Cu3YB6W8o",
        "outputId": "10b8fd70-4d77-478e-c70d-a2a62f830288"
      },
      "source": [
        "pd.concat(df2)  # Combining the parts into one DataFrame"
      ],
      "execution_count": 45,
      "outputs": [
        {
          "output_type": "execute_result",
          "data": {
            "text/html": [
              "<div>\n",
              "<style scoped>\n",
              "    .dataframe tbody tr th:only-of-type {\n",
              "        vertical-align: middle;\n",
              "    }\n",
              "\n",
              "    .dataframe tbody tr th {\n",
              "        vertical-align: top;\n",
              "    }\n",
              "\n",
              "    .dataframe thead th {\n",
              "        text-align: right;\n",
              "    }\n",
              "</style>\n",
              "<table border=\"1\" class=\"dataframe\">\n",
              "  <thead>\n",
              "    <tr style=\"text-align: right;\">\n",
              "      <th></th>\n",
              "      <th>0</th>\n",
              "      <th>1</th>\n",
              "      <th>2</th>\n",
              "      <th>3</th>\n",
              "    </tr>\n",
              "  </thead>\n",
              "  <tbody>\n",
              "    <tr>\n",
              "      <th>0</th>\n",
              "      <td>-0.165586</td>\n",
              "      <td>0.295377</td>\n",
              "      <td>-0.764595</td>\n",
              "      <td>-0.124220</td>\n",
              "    </tr>\n",
              "    <tr>\n",
              "      <th>1</th>\n",
              "      <td>1.588828</td>\n",
              "      <td>-1.172458</td>\n",
              "      <td>-0.250395</td>\n",
              "      <td>-2.477230</td>\n",
              "    </tr>\n",
              "    <tr>\n",
              "      <th>2</th>\n",
              "      <td>-1.416540</td>\n",
              "      <td>-0.382216</td>\n",
              "      <td>-0.406775</td>\n",
              "      <td>0.778291</td>\n",
              "    </tr>\n",
              "    <tr>\n",
              "      <th>3</th>\n",
              "      <td>0.279888</td>\n",
              "      <td>-1.060189</td>\n",
              "      <td>-0.314845</td>\n",
              "      <td>0.202702</td>\n",
              "    </tr>\n",
              "    <tr>\n",
              "      <th>4</th>\n",
              "      <td>-0.381790</td>\n",
              "      <td>-1.025426</td>\n",
              "      <td>-0.734016</td>\n",
              "      <td>1.452617</td>\n",
              "    </tr>\n",
              "    <tr>\n",
              "      <th>5</th>\n",
              "      <td>-2.978255</td>\n",
              "      <td>-1.482816</td>\n",
              "      <td>0.390221</td>\n",
              "      <td>-0.251308</td>\n",
              "    </tr>\n",
              "    <tr>\n",
              "      <th>6</th>\n",
              "      <td>1.011863</td>\n",
              "      <td>-1.038880</td>\n",
              "      <td>-0.166630</td>\n",
              "      <td>-1.418066</td>\n",
              "    </tr>\n",
              "    <tr>\n",
              "      <th>7</th>\n",
              "      <td>-0.704926</td>\n",
              "      <td>-0.601205</td>\n",
              "      <td>1.046612</td>\n",
              "      <td>1.139414</td>\n",
              "    </tr>\n",
              "    <tr>\n",
              "      <th>8</th>\n",
              "      <td>-0.364104</td>\n",
              "      <td>-0.171115</td>\n",
              "      <td>-0.639251</td>\n",
              "      <td>0.765255</td>\n",
              "    </tr>\n",
              "    <tr>\n",
              "      <th>9</th>\n",
              "      <td>-0.591634</td>\n",
              "      <td>0.637926</td>\n",
              "      <td>-0.083405</td>\n",
              "      <td>0.057943</td>\n",
              "    </tr>\n",
              "  </tbody>\n",
              "</table>\n",
              "</div>"
            ],
            "text/plain": [
              "          0         1         2         3\n",
              "0 -0.165586  0.295377 -0.764595 -0.124220\n",
              "1  1.588828 -1.172458 -0.250395 -2.477230\n",
              "2 -1.416540 -0.382216 -0.406775  0.778291\n",
              "3  0.279888 -1.060189 -0.314845  0.202702\n",
              "4 -0.381790 -1.025426 -0.734016  1.452617\n",
              "5 -2.978255 -1.482816  0.390221 -0.251308\n",
              "6  1.011863 -1.038880 -0.166630 -1.418066\n",
              "7 -0.704926 -0.601205  1.046612  1.139414\n",
              "8 -0.364104 -0.171115 -0.639251  0.765255\n",
              "9 -0.591634  0.637926 -0.083405  0.057943"
            ]
          },
          "metadata": {},
          "execution_count": 45
        }
      ]
    },
    {
      "cell_type": "code",
      "metadata": {
        "id": "MD1ve68O6cBM"
      },
      "source": [
        "left=pd.DataFrame({\"A\":[1,2],\"B\":[3,4]})"
      ],
      "execution_count": 46,
      "outputs": []
    },
    {
      "cell_type": "code",
      "metadata": {
        "id": "txZwTX7O7SXm"
      },
      "source": [
        "right=pd.DataFrame({\"A\":[3,2],\"D\":[4,5]})"
      ],
      "execution_count": 47,
      "outputs": []
    },
    {
      "cell_type": "code",
      "metadata": {
        "colab": {
          "base_uri": "https://localhost:8080/",
          "height": 111
        },
        "id": "eX_Tvhio7mTn",
        "outputId": "b2b04052-102f-4683-e7cf-7379a64e16cc"
      },
      "source": [
        "left"
      ],
      "execution_count": 48,
      "outputs": [
        {
          "output_type": "execute_result",
          "data": {
            "text/html": [
              "<div>\n",
              "<style scoped>\n",
              "    .dataframe tbody tr th:only-of-type {\n",
              "        vertical-align: middle;\n",
              "    }\n",
              "\n",
              "    .dataframe tbody tr th {\n",
              "        vertical-align: top;\n",
              "    }\n",
              "\n",
              "    .dataframe thead th {\n",
              "        text-align: right;\n",
              "    }\n",
              "</style>\n",
              "<table border=\"1\" class=\"dataframe\">\n",
              "  <thead>\n",
              "    <tr style=\"text-align: right;\">\n",
              "      <th></th>\n",
              "      <th>A</th>\n",
              "      <th>B</th>\n",
              "    </tr>\n",
              "  </thead>\n",
              "  <tbody>\n",
              "    <tr>\n",
              "      <th>0</th>\n",
              "      <td>1</td>\n",
              "      <td>3</td>\n",
              "    </tr>\n",
              "    <tr>\n",
              "      <th>1</th>\n",
              "      <td>2</td>\n",
              "      <td>4</td>\n",
              "    </tr>\n",
              "  </tbody>\n",
              "</table>\n",
              "</div>"
            ],
            "text/plain": [
              "   A  B\n",
              "0  1  3\n",
              "1  2  4"
            ]
          },
          "metadata": {},
          "execution_count": 48
        }
      ]
    },
    {
      "cell_type": "code",
      "metadata": {
        "colab": {
          "base_uri": "https://localhost:8080/",
          "height": 111
        },
        "id": "xhi3u6WB7ot1",
        "outputId": "37deac72-0e24-4ed0-b5ca-32e6243f1538"
      },
      "source": [
        "right"
      ],
      "execution_count": 49,
      "outputs": [
        {
          "output_type": "execute_result",
          "data": {
            "text/html": [
              "<div>\n",
              "<style scoped>\n",
              "    .dataframe tbody tr th:only-of-type {\n",
              "        vertical-align: middle;\n",
              "    }\n",
              "\n",
              "    .dataframe tbody tr th {\n",
              "        vertical-align: top;\n",
              "    }\n",
              "\n",
              "    .dataframe thead th {\n",
              "        text-align: right;\n",
              "    }\n",
              "</style>\n",
              "<table border=\"1\" class=\"dataframe\">\n",
              "  <thead>\n",
              "    <tr style=\"text-align: right;\">\n",
              "      <th></th>\n",
              "      <th>A</th>\n",
              "      <th>D</th>\n",
              "    </tr>\n",
              "  </thead>\n",
              "  <tbody>\n",
              "    <tr>\n",
              "      <th>0</th>\n",
              "      <td>3</td>\n",
              "      <td>4</td>\n",
              "    </tr>\n",
              "    <tr>\n",
              "      <th>1</th>\n",
              "      <td>2</td>\n",
              "      <td>5</td>\n",
              "    </tr>\n",
              "  </tbody>\n",
              "</table>\n",
              "</div>"
            ],
            "text/plain": [
              "   A  D\n",
              "0  3  4\n",
              "1  2  5"
            ]
          },
          "metadata": {},
          "execution_count": 49
        }
      ]
    },
    {
      "cell_type": "code",
      "metadata": {
        "colab": {
          "base_uri": "https://localhost:8080/",
          "height": 80
        },
        "id": "qXY4bePy7qVl",
        "outputId": "3d5ba93a-ca9b-4974-a081-6b8396f220f2"
      },
      "source": [
        "pd.merge(left,right,on=\"A\")"
      ],
      "execution_count": 50,
      "outputs": [
        {
          "output_type": "execute_result",
          "data": {
            "text/html": [
              "<div>\n",
              "<style scoped>\n",
              "    .dataframe tbody tr th:only-of-type {\n",
              "        vertical-align: middle;\n",
              "    }\n",
              "\n",
              "    .dataframe tbody tr th {\n",
              "        vertical-align: top;\n",
              "    }\n",
              "\n",
              "    .dataframe thead th {\n",
              "        text-align: right;\n",
              "    }\n",
              "</style>\n",
              "<table border=\"1\" class=\"dataframe\">\n",
              "  <thead>\n",
              "    <tr style=\"text-align: right;\">\n",
              "      <th></th>\n",
              "      <th>A</th>\n",
              "      <th>B</th>\n",
              "      <th>D</th>\n",
              "    </tr>\n",
              "  </thead>\n",
              "  <tbody>\n",
              "    <tr>\n",
              "      <th>0</th>\n",
              "      <td>2</td>\n",
              "      <td>4</td>\n",
              "      <td>5</td>\n",
              "    </tr>\n",
              "  </tbody>\n",
              "</table>\n",
              "</div>"
            ],
            "text/plain": [
              "   A  B  D\n",
              "0  2  4  5"
            ]
          },
          "metadata": {},
          "execution_count": 50
        }
      ]
    },
    {
      "cell_type": "code",
      "metadata": {
        "colab": {
          "base_uri": "https://localhost:8080/",
          "height": 359
        },
        "id": "jqeyk72J77ED",
        "outputId": "7f19a548-85f9-479a-fc33-ae66ccae8196"
      },
      "source": [
        "df"
      ],
      "execution_count": 51,
      "outputs": [
        {
          "output_type": "execute_result",
          "data": {
            "text/html": [
              "<div>\n",
              "<style scoped>\n",
              "    .dataframe tbody tr th:only-of-type {\n",
              "        vertical-align: middle;\n",
              "    }\n",
              "\n",
              "    .dataframe tbody tr th {\n",
              "        vertical-align: top;\n",
              "    }\n",
              "\n",
              "    .dataframe thead th {\n",
              "        text-align: right;\n",
              "    }\n",
              "</style>\n",
              "<table border=\"1\" class=\"dataframe\">\n",
              "  <thead>\n",
              "    <tr style=\"text-align: right;\">\n",
              "      <th></th>\n",
              "      <th>0</th>\n",
              "      <th>1</th>\n",
              "      <th>2</th>\n",
              "      <th>3</th>\n",
              "    </tr>\n",
              "  </thead>\n",
              "  <tbody>\n",
              "    <tr>\n",
              "      <th>0</th>\n",
              "      <td>-0.165586</td>\n",
              "      <td>0.295377</td>\n",
              "      <td>-0.764595</td>\n",
              "      <td>-0.124220</td>\n",
              "    </tr>\n",
              "    <tr>\n",
              "      <th>1</th>\n",
              "      <td>1.588828</td>\n",
              "      <td>-1.172458</td>\n",
              "      <td>-0.250395</td>\n",
              "      <td>-2.477230</td>\n",
              "    </tr>\n",
              "    <tr>\n",
              "      <th>2</th>\n",
              "      <td>-1.416540</td>\n",
              "      <td>-0.382216</td>\n",
              "      <td>-0.406775</td>\n",
              "      <td>0.778291</td>\n",
              "    </tr>\n",
              "    <tr>\n",
              "      <th>3</th>\n",
              "      <td>0.279888</td>\n",
              "      <td>-1.060189</td>\n",
              "      <td>-0.314845</td>\n",
              "      <td>0.202702</td>\n",
              "    </tr>\n",
              "    <tr>\n",
              "      <th>4</th>\n",
              "      <td>-0.381790</td>\n",
              "      <td>-1.025426</td>\n",
              "      <td>-0.734016</td>\n",
              "      <td>1.452617</td>\n",
              "    </tr>\n",
              "    <tr>\n",
              "      <th>5</th>\n",
              "      <td>-2.978255</td>\n",
              "      <td>-1.482816</td>\n",
              "      <td>0.390221</td>\n",
              "      <td>-0.251308</td>\n",
              "    </tr>\n",
              "    <tr>\n",
              "      <th>6</th>\n",
              "      <td>1.011863</td>\n",
              "      <td>-1.038880</td>\n",
              "      <td>-0.166630</td>\n",
              "      <td>-1.418066</td>\n",
              "    </tr>\n",
              "    <tr>\n",
              "      <th>7</th>\n",
              "      <td>-0.704926</td>\n",
              "      <td>-0.601205</td>\n",
              "      <td>1.046612</td>\n",
              "      <td>1.139414</td>\n",
              "    </tr>\n",
              "    <tr>\n",
              "      <th>8</th>\n",
              "      <td>-0.364104</td>\n",
              "      <td>-0.171115</td>\n",
              "      <td>-0.639251</td>\n",
              "      <td>0.765255</td>\n",
              "    </tr>\n",
              "    <tr>\n",
              "      <th>9</th>\n",
              "      <td>-0.591634</td>\n",
              "      <td>0.637926</td>\n",
              "      <td>-0.083405</td>\n",
              "      <td>0.057943</td>\n",
              "    </tr>\n",
              "  </tbody>\n",
              "</table>\n",
              "</div>"
            ],
            "text/plain": [
              "          0         1         2         3\n",
              "0 -0.165586  0.295377 -0.764595 -0.124220\n",
              "1  1.588828 -1.172458 -0.250395 -2.477230\n",
              "2 -1.416540 -0.382216 -0.406775  0.778291\n",
              "3  0.279888 -1.060189 -0.314845  0.202702\n",
              "4 -0.381790 -1.025426 -0.734016  1.452617\n",
              "5 -2.978255 -1.482816  0.390221 -0.251308\n",
              "6  1.011863 -1.038880 -0.166630 -1.418066\n",
              "7 -0.704926 -0.601205  1.046612  1.139414\n",
              "8 -0.364104 -0.171115 -0.639251  0.765255\n",
              "9 -0.591634  0.637926 -0.083405  0.057943"
            ]
          },
          "metadata": {},
          "execution_count": 51
        }
      ]
    },
    {
      "cell_type": "code",
      "metadata": {
        "colab": {
          "base_uri": "https://localhost:8080/",
          "height": 390
        },
        "id": "lwCMinne8Jl_",
        "outputId": "64aba49e-c6ff-4dfe-c58c-41e7bcdf3ed1"
      },
      "source": [
        "df.groupby([2,3]).sum()"
      ],
      "execution_count": 52,
      "outputs": [
        {
          "output_type": "execute_result",
          "data": {
            "text/html": [
              "<div>\n",
              "<style scoped>\n",
              "    .dataframe tbody tr th:only-of-type {\n",
              "        vertical-align: middle;\n",
              "    }\n",
              "\n",
              "    .dataframe tbody tr th {\n",
              "        vertical-align: top;\n",
              "    }\n",
              "\n",
              "    .dataframe thead th {\n",
              "        text-align: right;\n",
              "    }\n",
              "</style>\n",
              "<table border=\"1\" class=\"dataframe\">\n",
              "  <thead>\n",
              "    <tr style=\"text-align: right;\">\n",
              "      <th></th>\n",
              "      <th></th>\n",
              "      <th>0</th>\n",
              "      <th>1</th>\n",
              "    </tr>\n",
              "    <tr>\n",
              "      <th>2</th>\n",
              "      <th>3</th>\n",
              "      <th></th>\n",
              "      <th></th>\n",
              "    </tr>\n",
              "  </thead>\n",
              "  <tbody>\n",
              "    <tr>\n",
              "      <th>-0.764595</th>\n",
              "      <th>-0.124220</th>\n",
              "      <td>-0.165586</td>\n",
              "      <td>0.295377</td>\n",
              "    </tr>\n",
              "    <tr>\n",
              "      <th>-0.734016</th>\n",
              "      <th>1.452617</th>\n",
              "      <td>-0.381790</td>\n",
              "      <td>-1.025426</td>\n",
              "    </tr>\n",
              "    <tr>\n",
              "      <th>-0.639251</th>\n",
              "      <th>0.765255</th>\n",
              "      <td>-0.364104</td>\n",
              "      <td>-0.171115</td>\n",
              "    </tr>\n",
              "    <tr>\n",
              "      <th>-0.406775</th>\n",
              "      <th>0.778291</th>\n",
              "      <td>-1.416540</td>\n",
              "      <td>-0.382216</td>\n",
              "    </tr>\n",
              "    <tr>\n",
              "      <th>-0.314845</th>\n",
              "      <th>0.202702</th>\n",
              "      <td>0.279888</td>\n",
              "      <td>-1.060189</td>\n",
              "    </tr>\n",
              "    <tr>\n",
              "      <th>-0.250395</th>\n",
              "      <th>-2.477230</th>\n",
              "      <td>1.588828</td>\n",
              "      <td>-1.172458</td>\n",
              "    </tr>\n",
              "    <tr>\n",
              "      <th>-0.166630</th>\n",
              "      <th>-1.418066</th>\n",
              "      <td>1.011863</td>\n",
              "      <td>-1.038880</td>\n",
              "    </tr>\n",
              "    <tr>\n",
              "      <th>-0.083405</th>\n",
              "      <th>0.057943</th>\n",
              "      <td>-0.591634</td>\n",
              "      <td>0.637926</td>\n",
              "    </tr>\n",
              "    <tr>\n",
              "      <th>0.390221</th>\n",
              "      <th>-0.251308</th>\n",
              "      <td>-2.978255</td>\n",
              "      <td>-1.482816</td>\n",
              "    </tr>\n",
              "    <tr>\n",
              "      <th>1.046612</th>\n",
              "      <th>1.139414</th>\n",
              "      <td>-0.704926</td>\n",
              "      <td>-0.601205</td>\n",
              "    </tr>\n",
              "  </tbody>\n",
              "</table>\n",
              "</div>"
            ],
            "text/plain": [
              "                            0         1\n",
              "2         3                            \n",
              "-0.764595 -0.124220 -0.165586  0.295377\n",
              "-0.734016  1.452617 -0.381790 -1.025426\n",
              "-0.639251  0.765255 -0.364104 -0.171115\n",
              "-0.406775  0.778291 -1.416540 -0.382216\n",
              "-0.314845  0.202702  0.279888 -1.060189\n",
              "-0.250395 -2.477230  1.588828 -1.172458\n",
              "-0.166630 -1.418066  1.011863 -1.038880\n",
              "-0.083405  0.057943 -0.591634  0.637926\n",
              " 0.390221 -0.251308 -2.978255 -1.482816\n",
              " 1.046612  1.139414 -0.704926 -0.601205"
            ]
          },
          "metadata": {},
          "execution_count": 52
        }
      ]
    },
    {
      "cell_type": "markdown",
      "metadata": {
        "id": "xgaalf7v8Vu8"
      },
      "source": [
        "# Merge,Group,Reshape Data"
      ]
    },
    {
      "cell_type": "markdown",
      "metadata": {
        "id": "R1YvTvpX83Fi"
      },
      "source": [
        "## Reshaping\n",
        "\n",
        "* Reshaping is basically mounging the data according to our specifications"
      ]
    },
    {
      "cell_type": "code",
      "metadata": {
        "colab": {
          "base_uri": "https://localhost:8080/"
        },
        "id": "GW9S11N_9VCr",
        "outputId": "0fe7ec56-434a-4321-ed97-40befd9d90d7"
      },
      "source": [
        "my_tuple=list(zip(*[[1,2,3,4,5,17,18,19],[11,12,13,6,7,8,9,10]]))\n",
        "my_tuple"
      ],
      "execution_count": 53,
      "outputs": [
        {
          "output_type": "execute_result",
          "data": {
            "text/plain": [
              "[(1, 11), (2, 12), (3, 13), (4, 6), (5, 7), (17, 8), (18, 9), (19, 10)]"
            ]
          },
          "metadata": {},
          "execution_count": 53
        }
      ]
    },
    {
      "cell_type": "code",
      "metadata": {
        "colab": {
          "base_uri": "https://localhost:8080/"
        },
        "id": "khdr-72x-c7b",
        "outputId": "26c4a16b-246f-4579-f582-2172ea9cabd0"
      },
      "source": [
        "index=pd.MultiIndex.from_tuples(my_tuple,names=[\"First\",\"Second\"])\n",
        "index"
      ],
      "execution_count": 54,
      "outputs": [
        {
          "output_type": "execute_result",
          "data": {
            "text/plain": [
              "MultiIndex([( 1, 11),\n",
              "            ( 2, 12),\n",
              "            ( 3, 13),\n",
              "            ( 4,  6),\n",
              "            ( 5,  7),\n",
              "            (17,  8),\n",
              "            (18,  9),\n",
              "            (19, 10)],\n",
              "           names=['First', 'Second'])"
            ]
          },
          "metadata": {},
          "execution_count": 54
        }
      ]
    },
    {
      "cell_type": "code",
      "metadata": {
        "id": "pAOYtBogCJtB"
      },
      "source": [
        "df=pd.DataFrame(np.random.randn(8,2),index=index,columns=[\"A\",\"B\"])"
      ],
      "execution_count": 55,
      "outputs": []
    },
    {
      "cell_type": "code",
      "metadata": {
        "id": "2fRZI6UsC0rk"
      },
      "source": [
        "df2=df[:4]"
      ],
      "execution_count": 56,
      "outputs": []
    },
    {
      "cell_type": "code",
      "metadata": {
        "colab": {
          "base_uri": "https://localhost:8080/",
          "height": 204
        },
        "id": "6h81YCswDAB2",
        "outputId": "54e50747-6682-4f5e-89f4-e0c85e8f951b"
      },
      "source": [
        "df2"
      ],
      "execution_count": 57,
      "outputs": [
        {
          "output_type": "execute_result",
          "data": {
            "text/html": [
              "<div>\n",
              "<style scoped>\n",
              "    .dataframe tbody tr th:only-of-type {\n",
              "        vertical-align: middle;\n",
              "    }\n",
              "\n",
              "    .dataframe tbody tr th {\n",
              "        vertical-align: top;\n",
              "    }\n",
              "\n",
              "    .dataframe thead th {\n",
              "        text-align: right;\n",
              "    }\n",
              "</style>\n",
              "<table border=\"1\" class=\"dataframe\">\n",
              "  <thead>\n",
              "    <tr style=\"text-align: right;\">\n",
              "      <th></th>\n",
              "      <th></th>\n",
              "      <th>A</th>\n",
              "      <th>B</th>\n",
              "    </tr>\n",
              "    <tr>\n",
              "      <th>First</th>\n",
              "      <th>Second</th>\n",
              "      <th></th>\n",
              "      <th></th>\n",
              "    </tr>\n",
              "  </thead>\n",
              "  <tbody>\n",
              "    <tr>\n",
              "      <th>1</th>\n",
              "      <th>11</th>\n",
              "      <td>-0.971271</td>\n",
              "      <td>-0.212185</td>\n",
              "    </tr>\n",
              "    <tr>\n",
              "      <th>2</th>\n",
              "      <th>12</th>\n",
              "      <td>-1.519092</td>\n",
              "      <td>-0.827757</td>\n",
              "    </tr>\n",
              "    <tr>\n",
              "      <th>3</th>\n",
              "      <th>13</th>\n",
              "      <td>0.958155</td>\n",
              "      <td>0.042369</td>\n",
              "    </tr>\n",
              "    <tr>\n",
              "      <th>4</th>\n",
              "      <th>6</th>\n",
              "      <td>1.806384</td>\n",
              "      <td>0.224160</td>\n",
              "    </tr>\n",
              "  </tbody>\n",
              "</table>\n",
              "</div>"
            ],
            "text/plain": [
              "                     A         B\n",
              "First Second                    \n",
              "1     11     -0.971271 -0.212185\n",
              "2     12     -1.519092 -0.827757\n",
              "3     13      0.958155  0.042369\n",
              "4     6       1.806384  0.224160"
            ]
          },
          "metadata": {},
          "execution_count": 57
        }
      ]
    },
    {
      "cell_type": "code",
      "metadata": {
        "colab": {
          "base_uri": "https://localhost:8080/"
        },
        "id": "RcAiL1d9DBwv",
        "outputId": "5a1c30b7-5fae-449b-8c39-bb4f971241ef"
      },
      "source": [
        "a=df2.stack()\n",
        "a"
      ],
      "execution_count": 58,
      "outputs": [
        {
          "output_type": "execute_result",
          "data": {
            "text/plain": [
              "First  Second   \n",
              "1      11      A   -0.971271\n",
              "               B   -0.212185\n",
              "2      12      A   -1.519092\n",
              "               B   -0.827757\n",
              "3      13      A    0.958155\n",
              "               B    0.042369\n",
              "4      6       A    1.806384\n",
              "               B    0.224160\n",
              "dtype: float64"
            ]
          },
          "metadata": {},
          "execution_count": 58
        }
      ]
    },
    {
      "cell_type": "code",
      "metadata": {
        "colab": {
          "base_uri": "https://localhost:8080/",
          "height": 204
        },
        "id": "24G0aO8FDJjE",
        "outputId": "ad98184e-6ca2-46a0-fdae-6f91ff818bbc"
      },
      "source": [
        "a.unstack()"
      ],
      "execution_count": 59,
      "outputs": [
        {
          "output_type": "execute_result",
          "data": {
            "text/html": [
              "<div>\n",
              "<style scoped>\n",
              "    .dataframe tbody tr th:only-of-type {\n",
              "        vertical-align: middle;\n",
              "    }\n",
              "\n",
              "    .dataframe tbody tr th {\n",
              "        vertical-align: top;\n",
              "    }\n",
              "\n",
              "    .dataframe thead th {\n",
              "        text-align: right;\n",
              "    }\n",
              "</style>\n",
              "<table border=\"1\" class=\"dataframe\">\n",
              "  <thead>\n",
              "    <tr style=\"text-align: right;\">\n",
              "      <th></th>\n",
              "      <th></th>\n",
              "      <th>A</th>\n",
              "      <th>B</th>\n",
              "    </tr>\n",
              "    <tr>\n",
              "      <th>First</th>\n",
              "      <th>Second</th>\n",
              "      <th></th>\n",
              "      <th></th>\n",
              "    </tr>\n",
              "  </thead>\n",
              "  <tbody>\n",
              "    <tr>\n",
              "      <th>1</th>\n",
              "      <th>11</th>\n",
              "      <td>-0.971271</td>\n",
              "      <td>-0.212185</td>\n",
              "    </tr>\n",
              "    <tr>\n",
              "      <th>2</th>\n",
              "      <th>12</th>\n",
              "      <td>-1.519092</td>\n",
              "      <td>-0.827757</td>\n",
              "    </tr>\n",
              "    <tr>\n",
              "      <th>3</th>\n",
              "      <th>13</th>\n",
              "      <td>0.958155</td>\n",
              "      <td>0.042369</td>\n",
              "    </tr>\n",
              "    <tr>\n",
              "      <th>4</th>\n",
              "      <th>6</th>\n",
              "      <td>1.806384</td>\n",
              "      <td>0.224160</td>\n",
              "    </tr>\n",
              "  </tbody>\n",
              "</table>\n",
              "</div>"
            ],
            "text/plain": [
              "                     A         B\n",
              "First Second                    \n",
              "1     11     -0.971271 -0.212185\n",
              "2     12     -1.519092 -0.827757\n",
              "3     13      0.958155  0.042369\n",
              "4     6       1.806384  0.224160"
            ]
          },
          "metadata": {},
          "execution_count": 59
        }
      ]
    },
    {
      "cell_type": "code",
      "metadata": {
        "id": "IINKkFNADQqf"
      },
      "source": [
        "df=pd.DataFrame({'A':['a','b','c','d']*3,\n",
        "                'B':['A','B','C']*4,\n",
        "                'C':['P','P','P','Q','Q','Q']*2,\n",
        "                'D':np.random.randn(12),\n",
        "                'E':np.random.randn(12)})"
      ],
      "execution_count": 60,
      "outputs": []
    },
    {
      "cell_type": "code",
      "metadata": {
        "colab": {
          "base_uri": "https://localhost:8080/",
          "height": 421
        },
        "id": "H67X9UKSRxlY",
        "outputId": "86209af1-5428-43e7-fd5c-e9035e1a41c8"
      },
      "source": [
        "df"
      ],
      "execution_count": 61,
      "outputs": [
        {
          "output_type": "execute_result",
          "data": {
            "text/html": [
              "<div>\n",
              "<style scoped>\n",
              "    .dataframe tbody tr th:only-of-type {\n",
              "        vertical-align: middle;\n",
              "    }\n",
              "\n",
              "    .dataframe tbody tr th {\n",
              "        vertical-align: top;\n",
              "    }\n",
              "\n",
              "    .dataframe thead th {\n",
              "        text-align: right;\n",
              "    }\n",
              "</style>\n",
              "<table border=\"1\" class=\"dataframe\">\n",
              "  <thead>\n",
              "    <tr style=\"text-align: right;\">\n",
              "      <th></th>\n",
              "      <th>A</th>\n",
              "      <th>B</th>\n",
              "      <th>C</th>\n",
              "      <th>D</th>\n",
              "      <th>E</th>\n",
              "    </tr>\n",
              "  </thead>\n",
              "  <tbody>\n",
              "    <tr>\n",
              "      <th>0</th>\n",
              "      <td>a</td>\n",
              "      <td>A</td>\n",
              "      <td>P</td>\n",
              "      <td>0.161915</td>\n",
              "      <td>-0.564118</td>\n",
              "    </tr>\n",
              "    <tr>\n",
              "      <th>1</th>\n",
              "      <td>b</td>\n",
              "      <td>B</td>\n",
              "      <td>P</td>\n",
              "      <td>0.925174</td>\n",
              "      <td>-0.880051</td>\n",
              "    </tr>\n",
              "    <tr>\n",
              "      <th>2</th>\n",
              "      <td>c</td>\n",
              "      <td>C</td>\n",
              "      <td>P</td>\n",
              "      <td>0.617854</td>\n",
              "      <td>0.629826</td>\n",
              "    </tr>\n",
              "    <tr>\n",
              "      <th>3</th>\n",
              "      <td>d</td>\n",
              "      <td>A</td>\n",
              "      <td>Q</td>\n",
              "      <td>0.007417</td>\n",
              "      <td>-0.062975</td>\n",
              "    </tr>\n",
              "    <tr>\n",
              "      <th>4</th>\n",
              "      <td>a</td>\n",
              "      <td>B</td>\n",
              "      <td>Q</td>\n",
              "      <td>-0.190334</td>\n",
              "      <td>-1.360855</td>\n",
              "    </tr>\n",
              "    <tr>\n",
              "      <th>5</th>\n",
              "      <td>b</td>\n",
              "      <td>C</td>\n",
              "      <td>Q</td>\n",
              "      <td>-0.071373</td>\n",
              "      <td>0.510405</td>\n",
              "    </tr>\n",
              "    <tr>\n",
              "      <th>6</th>\n",
              "      <td>c</td>\n",
              "      <td>A</td>\n",
              "      <td>P</td>\n",
              "      <td>0.464586</td>\n",
              "      <td>-1.555327</td>\n",
              "    </tr>\n",
              "    <tr>\n",
              "      <th>7</th>\n",
              "      <td>d</td>\n",
              "      <td>B</td>\n",
              "      <td>P</td>\n",
              "      <td>-0.283564</td>\n",
              "      <td>0.313564</td>\n",
              "    </tr>\n",
              "    <tr>\n",
              "      <th>8</th>\n",
              "      <td>a</td>\n",
              "      <td>C</td>\n",
              "      <td>P</td>\n",
              "      <td>-2.372443</td>\n",
              "      <td>0.489902</td>\n",
              "    </tr>\n",
              "    <tr>\n",
              "      <th>9</th>\n",
              "      <td>b</td>\n",
              "      <td>A</td>\n",
              "      <td>Q</td>\n",
              "      <td>-0.578004</td>\n",
              "      <td>-0.427363</td>\n",
              "    </tr>\n",
              "    <tr>\n",
              "      <th>10</th>\n",
              "      <td>c</td>\n",
              "      <td>B</td>\n",
              "      <td>Q</td>\n",
              "      <td>0.643140</td>\n",
              "      <td>1.715926</td>\n",
              "    </tr>\n",
              "    <tr>\n",
              "      <th>11</th>\n",
              "      <td>d</td>\n",
              "      <td>C</td>\n",
              "      <td>Q</td>\n",
              "      <td>1.002630</td>\n",
              "      <td>1.261728</td>\n",
              "    </tr>\n",
              "  </tbody>\n",
              "</table>\n",
              "</div>"
            ],
            "text/plain": [
              "    A  B  C         D         E\n",
              "0   a  A  P  0.161915 -0.564118\n",
              "1   b  B  P  0.925174 -0.880051\n",
              "2   c  C  P  0.617854  0.629826\n",
              "3   d  A  Q  0.007417 -0.062975\n",
              "4   a  B  Q -0.190334 -1.360855\n",
              "5   b  C  Q -0.071373  0.510405\n",
              "6   c  A  P  0.464586 -1.555327\n",
              "7   d  B  P -0.283564  0.313564\n",
              "8   a  C  P -2.372443  0.489902\n",
              "9   b  A  Q -0.578004 -0.427363\n",
              "10  c  B  Q  0.643140  1.715926\n",
              "11  d  C  Q  1.002630  1.261728"
            ]
          },
          "metadata": {},
          "execution_count": 61
        }
      ]
    },
    {
      "cell_type": "code",
      "metadata": {
        "colab": {
          "base_uri": "https://localhost:8080/",
          "height": 452
        },
        "id": "Oqg6ew7wWNWh",
        "outputId": "df91b5e3-abae-4406-d24c-ac1c1df19f85"
      },
      "source": [
        "pd.pivot_table(df,values='D',index=['A','B'],columns=['C'])"
      ],
      "execution_count": 62,
      "outputs": [
        {
          "output_type": "execute_result",
          "data": {
            "text/html": [
              "<div>\n",
              "<style scoped>\n",
              "    .dataframe tbody tr th:only-of-type {\n",
              "        vertical-align: middle;\n",
              "    }\n",
              "\n",
              "    .dataframe tbody tr th {\n",
              "        vertical-align: top;\n",
              "    }\n",
              "\n",
              "    .dataframe thead th {\n",
              "        text-align: right;\n",
              "    }\n",
              "</style>\n",
              "<table border=\"1\" class=\"dataframe\">\n",
              "  <thead>\n",
              "    <tr style=\"text-align: right;\">\n",
              "      <th></th>\n",
              "      <th>C</th>\n",
              "      <th>P</th>\n",
              "      <th>Q</th>\n",
              "    </tr>\n",
              "    <tr>\n",
              "      <th>A</th>\n",
              "      <th>B</th>\n",
              "      <th></th>\n",
              "      <th></th>\n",
              "    </tr>\n",
              "  </thead>\n",
              "  <tbody>\n",
              "    <tr>\n",
              "      <th rowspan=\"3\" valign=\"top\">a</th>\n",
              "      <th>A</th>\n",
              "      <td>0.161915</td>\n",
              "      <td>NaN</td>\n",
              "    </tr>\n",
              "    <tr>\n",
              "      <th>B</th>\n",
              "      <td>NaN</td>\n",
              "      <td>-0.190334</td>\n",
              "    </tr>\n",
              "    <tr>\n",
              "      <th>C</th>\n",
              "      <td>-2.372443</td>\n",
              "      <td>NaN</td>\n",
              "    </tr>\n",
              "    <tr>\n",
              "      <th rowspan=\"3\" valign=\"top\">b</th>\n",
              "      <th>A</th>\n",
              "      <td>NaN</td>\n",
              "      <td>-0.578004</td>\n",
              "    </tr>\n",
              "    <tr>\n",
              "      <th>B</th>\n",
              "      <td>0.925174</td>\n",
              "      <td>NaN</td>\n",
              "    </tr>\n",
              "    <tr>\n",
              "      <th>C</th>\n",
              "      <td>NaN</td>\n",
              "      <td>-0.071373</td>\n",
              "    </tr>\n",
              "    <tr>\n",
              "      <th rowspan=\"3\" valign=\"top\">c</th>\n",
              "      <th>A</th>\n",
              "      <td>0.464586</td>\n",
              "      <td>NaN</td>\n",
              "    </tr>\n",
              "    <tr>\n",
              "      <th>B</th>\n",
              "      <td>NaN</td>\n",
              "      <td>0.643140</td>\n",
              "    </tr>\n",
              "    <tr>\n",
              "      <th>C</th>\n",
              "      <td>0.617854</td>\n",
              "      <td>NaN</td>\n",
              "    </tr>\n",
              "    <tr>\n",
              "      <th rowspan=\"3\" valign=\"top\">d</th>\n",
              "      <th>A</th>\n",
              "      <td>NaN</td>\n",
              "      <td>0.007417</td>\n",
              "    </tr>\n",
              "    <tr>\n",
              "      <th>B</th>\n",
              "      <td>-0.283564</td>\n",
              "      <td>NaN</td>\n",
              "    </tr>\n",
              "    <tr>\n",
              "      <th>C</th>\n",
              "      <td>NaN</td>\n",
              "      <td>1.002630</td>\n",
              "    </tr>\n",
              "  </tbody>\n",
              "</table>\n",
              "</div>"
            ],
            "text/plain": [
              "C           P         Q\n",
              "A B                    \n",
              "a A  0.161915       NaN\n",
              "  B       NaN -0.190334\n",
              "  C -2.372443       NaN\n",
              "b A       NaN -0.578004\n",
              "  B  0.925174       NaN\n",
              "  C       NaN -0.071373\n",
              "c A  0.464586       NaN\n",
              "  B       NaN  0.643140\n",
              "  C  0.617854       NaN\n",
              "d A       NaN  0.007417\n",
              "  B -0.283564       NaN\n",
              "  C       NaN  1.002630"
            ]
          },
          "metadata": {},
          "execution_count": 62
        }
      ]
    },
    {
      "cell_type": "markdown",
      "metadata": {
        "id": "nBVQdW41Xov9"
      },
      "source": [
        "# Time Series And Categoricals\n",
        "\n",
        "* Pandas has simple, powerful and efficient functinality for performing resampling operations during frequency conversion!"
      ]
    },
    {
      "cell_type": "code",
      "metadata": {
        "id": "pC94C-h3Wpy3",
        "colab": {
          "base_uri": "https://localhost:8080/"
        },
        "outputId": "9127a6b5-c1b1-4cfb-8d98-c4f495d1b91c"
      },
      "source": [
        "import tensorflow as tf\n",
        "dates =pd.date_range('20210918',periods=100,freq='S')\n",
        "dates"
      ],
      "execution_count": 63,
      "outputs": [
        {
          "output_type": "execute_result",
          "data": {
            "text/plain": [
              "DatetimeIndex(['2021-09-18 00:00:00', '2021-09-18 00:00:01',\n",
              "               '2021-09-18 00:00:02', '2021-09-18 00:00:03',\n",
              "               '2021-09-18 00:00:04', '2021-09-18 00:00:05',\n",
              "               '2021-09-18 00:00:06', '2021-09-18 00:00:07',\n",
              "               '2021-09-18 00:00:08', '2021-09-18 00:00:09',\n",
              "               '2021-09-18 00:00:10', '2021-09-18 00:00:11',\n",
              "               '2021-09-18 00:00:12', '2021-09-18 00:00:13',\n",
              "               '2021-09-18 00:00:14', '2021-09-18 00:00:15',\n",
              "               '2021-09-18 00:00:16', '2021-09-18 00:00:17',\n",
              "               '2021-09-18 00:00:18', '2021-09-18 00:00:19',\n",
              "               '2021-09-18 00:00:20', '2021-09-18 00:00:21',\n",
              "               '2021-09-18 00:00:22', '2021-09-18 00:00:23',\n",
              "               '2021-09-18 00:00:24', '2021-09-18 00:00:25',\n",
              "               '2021-09-18 00:00:26', '2021-09-18 00:00:27',\n",
              "               '2021-09-18 00:00:28', '2021-09-18 00:00:29',\n",
              "               '2021-09-18 00:00:30', '2021-09-18 00:00:31',\n",
              "               '2021-09-18 00:00:32', '2021-09-18 00:00:33',\n",
              "               '2021-09-18 00:00:34', '2021-09-18 00:00:35',\n",
              "               '2021-09-18 00:00:36', '2021-09-18 00:00:37',\n",
              "               '2021-09-18 00:00:38', '2021-09-18 00:00:39',\n",
              "               '2021-09-18 00:00:40', '2021-09-18 00:00:41',\n",
              "               '2021-09-18 00:00:42', '2021-09-18 00:00:43',\n",
              "               '2021-09-18 00:00:44', '2021-09-18 00:00:45',\n",
              "               '2021-09-18 00:00:46', '2021-09-18 00:00:47',\n",
              "               '2021-09-18 00:00:48', '2021-09-18 00:00:49',\n",
              "               '2021-09-18 00:00:50', '2021-09-18 00:00:51',\n",
              "               '2021-09-18 00:00:52', '2021-09-18 00:00:53',\n",
              "               '2021-09-18 00:00:54', '2021-09-18 00:00:55',\n",
              "               '2021-09-18 00:00:56', '2021-09-18 00:00:57',\n",
              "               '2021-09-18 00:00:58', '2021-09-18 00:00:59',\n",
              "               '2021-09-18 00:01:00', '2021-09-18 00:01:01',\n",
              "               '2021-09-18 00:01:02', '2021-09-18 00:01:03',\n",
              "               '2021-09-18 00:01:04', '2021-09-18 00:01:05',\n",
              "               '2021-09-18 00:01:06', '2021-09-18 00:01:07',\n",
              "               '2021-09-18 00:01:08', '2021-09-18 00:01:09',\n",
              "               '2021-09-18 00:01:10', '2021-09-18 00:01:11',\n",
              "               '2021-09-18 00:01:12', '2021-09-18 00:01:13',\n",
              "               '2021-09-18 00:01:14', '2021-09-18 00:01:15',\n",
              "               '2021-09-18 00:01:16', '2021-09-18 00:01:17',\n",
              "               '2021-09-18 00:01:18', '2021-09-18 00:01:19',\n",
              "               '2021-09-18 00:01:20', '2021-09-18 00:01:21',\n",
              "               '2021-09-18 00:01:22', '2021-09-18 00:01:23',\n",
              "               '2021-09-18 00:01:24', '2021-09-18 00:01:25',\n",
              "               '2021-09-18 00:01:26', '2021-09-18 00:01:27',\n",
              "               '2021-09-18 00:01:28', '2021-09-18 00:01:29',\n",
              "               '2021-09-18 00:01:30', '2021-09-18 00:01:31',\n",
              "               '2021-09-18 00:01:32', '2021-09-18 00:01:33',\n",
              "               '2021-09-18 00:01:34', '2021-09-18 00:01:35',\n",
              "               '2021-09-18 00:01:36', '2021-09-18 00:01:37',\n",
              "               '2021-09-18 00:01:38', '2021-09-18 00:01:39'],\n",
              "              dtype='datetime64[ns]', freq='S')"
            ]
          },
          "metadata": {},
          "execution_count": 63
        }
      ]
    },
    {
      "cell_type": "code",
      "metadata": {
        "id": "ZTj6f3k3o9t2"
      },
      "source": [
        "ts=pd.Series(np.random.randint(0,500,len(dates)),index=dates)"
      ],
      "execution_count": 64,
      "outputs": []
    },
    {
      "cell_type": "code",
      "metadata": {
        "colab": {
          "base_uri": "https://localhost:8080/"
        },
        "id": "1HTlbnGjpqm7",
        "outputId": "a0d8fa5e-17ea-4ebf-88c9-ec30fa22dcd2"
      },
      "source": [
        "ts"
      ],
      "execution_count": 65,
      "outputs": [
        {
          "output_type": "execute_result",
          "data": {
            "text/plain": [
              "2021-09-18 00:00:00     52\n",
              "2021-09-18 00:00:01    205\n",
              "2021-09-18 00:00:02     16\n",
              "2021-09-18 00:00:03     12\n",
              "2021-09-18 00:00:04    132\n",
              "                      ... \n",
              "2021-09-18 00:01:35     86\n",
              "2021-09-18 00:01:36      4\n",
              "2021-09-18 00:01:37    172\n",
              "2021-09-18 00:01:38    388\n",
              "2021-09-18 00:01:39    206\n",
              "Freq: S, Length: 100, dtype: int64"
            ]
          },
          "metadata": {},
          "execution_count": 65
        }
      ]
    },
    {
      "cell_type": "code",
      "metadata": {
        "colab": {
          "base_uri": "https://localhost:8080/"
        },
        "id": "vw1NnXokqDxq",
        "outputId": "6abb2496-3a3a-427a-f340-1160e00a2f73"
      },
      "source": [
        "ts.resample('5min').sum()"
      ],
      "execution_count": 66,
      "outputs": [
        {
          "output_type": "execute_result",
          "data": {
            "text/plain": [
              "2021-09-18    23888\n",
              "Freq: 5T, dtype: int64"
            ]
          },
          "metadata": {},
          "execution_count": 66
        }
      ]
    },
    {
      "cell_type": "code",
      "metadata": {
        "id": "TI51JaNzqQ7k"
      },
      "source": [
        "dates=pd.date_range('20210918 00:00',periods=5,freq='S')"
      ],
      "execution_count": 67,
      "outputs": []
    },
    {
      "cell_type": "code",
      "metadata": {
        "id": "rJU4wW5bqqr6"
      },
      "source": [
        "ts=pd.Series(np.random.randint(0,500,len(dates)),index=dates)"
      ],
      "execution_count": 68,
      "outputs": []
    },
    {
      "cell_type": "code",
      "metadata": {
        "colab": {
          "base_uri": "https://localhost:8080/"
        },
        "id": "LUyhdETfq3_6",
        "outputId": "7231d383-eb62-4a44-c72f-9bbecebf8d52"
      },
      "source": [
        "ts"
      ],
      "execution_count": 69,
      "outputs": [
        {
          "output_type": "execute_result",
          "data": {
            "text/plain": [
              "2021-09-18 00:00:00    195\n",
              "2021-09-18 00:00:01    444\n",
              "2021-09-18 00:00:02    262\n",
              "2021-09-18 00:00:03      6\n",
              "2021-09-18 00:00:04    255\n",
              "Freq: S, dtype: int64"
            ]
          },
          "metadata": {},
          "execution_count": 69
        }
      ]
    },
    {
      "cell_type": "code",
      "metadata": {
        "colab": {
          "base_uri": "https://localhost:8080/"
        },
        "id": "wbkZwWpVq8ci",
        "outputId": "22cd4fec-0795-43dd-d23c-9849e540cc79"
      },
      "source": [
        "ts.resample('5min').sum()"
      ],
      "execution_count": 70,
      "outputs": [
        {
          "output_type": "execute_result",
          "data": {
            "text/plain": [
              "2021-09-18    1162\n",
              "Freq: 5T, dtype: int64"
            ]
          },
          "metadata": {},
          "execution_count": 70
        }
      ]
    },
    {
      "cell_type": "code",
      "metadata": {
        "id": "A0zBfHBArI_0"
      },
      "source": [
        "ts_utc=ts.tz_localize('UTC')"
      ],
      "execution_count": 71,
      "outputs": []
    },
    {
      "cell_type": "code",
      "metadata": {
        "colab": {
          "base_uri": "https://localhost:8080/"
        },
        "id": "iSRgB2vOrf05",
        "outputId": "9ae39777-1bbc-4fd2-f1de-319131a123a0"
      },
      "source": [
        "ts_utc"
      ],
      "execution_count": 72,
      "outputs": [
        {
          "output_type": "execute_result",
          "data": {
            "text/plain": [
              "2021-09-18 00:00:00+00:00    195\n",
              "2021-09-18 00:00:01+00:00    444\n",
              "2021-09-18 00:00:02+00:00    262\n",
              "2021-09-18 00:00:03+00:00      6\n",
              "2021-09-18 00:00:04+00:00    255\n",
              "Freq: S, dtype: int64"
            ]
          },
          "metadata": {},
          "execution_count": 72
        }
      ]
    },
    {
      "cell_type": "code",
      "metadata": {
        "colab": {
          "base_uri": "https://localhost:8080/"
        },
        "id": "nvgFULh7riQw",
        "outputId": "166459f3-90ee-4939-ab92-0b1797d8845d"
      },
      "source": [
        "ts_utc.tz_convert('Asia/Dubai')"
      ],
      "execution_count": 73,
      "outputs": [
        {
          "output_type": "execute_result",
          "data": {
            "text/plain": [
              "2021-09-18 04:00:00+04:00    195\n",
              "2021-09-18 04:00:01+04:00    444\n",
              "2021-09-18 04:00:02+04:00    262\n",
              "2021-09-18 04:00:03+04:00      6\n",
              "2021-09-18 04:00:04+04:00    255\n",
              "Freq: S, dtype: int64"
            ]
          },
          "metadata": {},
          "execution_count": 73
        }
      ]
    },
    {
      "cell_type": "code",
      "metadata": {
        "id": "Vb5pvSR7trLO"
      },
      "source": [
        "dates=pd.date_range('20210918',periods=5,freq='M')"
      ],
      "execution_count": 74,
      "outputs": []
    },
    {
      "cell_type": "code",
      "metadata": {
        "id": "Ku6nP9Dwrz4w"
      },
      "source": [
        "ts=pd.Series(np.random.randn(len(dates)),index=dates)"
      ],
      "execution_count": 75,
      "outputs": []
    },
    {
      "cell_type": "code",
      "metadata": {
        "colab": {
          "base_uri": "https://localhost:8080/"
        },
        "id": "ZNje2N6ZtoN5",
        "outputId": "d7adbdac-8ea4-46c3-d3ec-168995cb642c"
      },
      "source": [
        "ts"
      ],
      "execution_count": 76,
      "outputs": [
        {
          "output_type": "execute_result",
          "data": {
            "text/plain": [
              "2021-09-30   -0.242432\n",
              "2021-10-31    1.723691\n",
              "2021-11-30   -1.384784\n",
              "2021-12-31    1.272059\n",
              "2022-01-31   -1.119413\n",
              "Freq: M, dtype: float64"
            ]
          },
          "metadata": {},
          "execution_count": 76
        }
      ]
    },
    {
      "cell_type": "code",
      "metadata": {
        "id": "C3pH6dmbt7GA"
      },
      "source": [
        "ps=ts.to_period()"
      ],
      "execution_count": 77,
      "outputs": []
    },
    {
      "cell_type": "code",
      "metadata": {
        "colab": {
          "base_uri": "https://localhost:8080/"
        },
        "id": "LSMtfJOhuuzb",
        "outputId": "0d004200-0edd-486a-ab6e-8e29deab7ba5"
      },
      "source": [
        "ps"
      ],
      "execution_count": 78,
      "outputs": [
        {
          "output_type": "execute_result",
          "data": {
            "text/plain": [
              "2021-09   -0.242432\n",
              "2021-10    1.723691\n",
              "2021-11   -1.384784\n",
              "2021-12    1.272059\n",
              "2022-01   -1.119413\n",
              "Freq: M, dtype: float64"
            ]
          },
          "metadata": {},
          "execution_count": 78
        }
      ]
    },
    {
      "cell_type": "code",
      "metadata": {
        "colab": {
          "base_uri": "https://localhost:8080/"
        },
        "id": "QX49k5uOuvk0",
        "outputId": "41f0e22b-059c-4310-cd13-769970b27606"
      },
      "source": [
        "ps.to_timestamp()"
      ],
      "execution_count": 79,
      "outputs": [
        {
          "output_type": "execute_result",
          "data": {
            "text/plain": [
              "2021-09-01   -0.242432\n",
              "2021-10-01    1.723691\n",
              "2021-11-01   -1.384784\n",
              "2021-12-01    1.272059\n",
              "2022-01-01   -1.119413\n",
              "Freq: MS, dtype: float64"
            ]
          },
          "metadata": {},
          "execution_count": 79
        }
      ]
    },
    {
      "cell_type": "code",
      "metadata": {
        "id": "DWPMHmPnu2GC"
      },
      "source": [
        "df=pd.DataFrame({'id':[1,2,3,4,5,6],\n",
        "                 'grade':['a','b','c','b','a','e']})"
      ],
      "execution_count": 80,
      "outputs": []
    },
    {
      "cell_type": "code",
      "metadata": {
        "colab": {
          "base_uri": "https://localhost:8080/",
          "height": 235
        },
        "id": "0cVA87u8vd-Z",
        "outputId": "1ec86d3c-4169-49ea-f987-d8f25ff5535f"
      },
      "source": [
        "df"
      ],
      "execution_count": 81,
      "outputs": [
        {
          "output_type": "execute_result",
          "data": {
            "text/html": [
              "<div>\n",
              "<style scoped>\n",
              "    .dataframe tbody tr th:only-of-type {\n",
              "        vertical-align: middle;\n",
              "    }\n",
              "\n",
              "    .dataframe tbody tr th {\n",
              "        vertical-align: top;\n",
              "    }\n",
              "\n",
              "    .dataframe thead th {\n",
              "        text-align: right;\n",
              "    }\n",
              "</style>\n",
              "<table border=\"1\" class=\"dataframe\">\n",
              "  <thead>\n",
              "    <tr style=\"text-align: right;\">\n",
              "      <th></th>\n",
              "      <th>id</th>\n",
              "      <th>grade</th>\n",
              "    </tr>\n",
              "  </thead>\n",
              "  <tbody>\n",
              "    <tr>\n",
              "      <th>0</th>\n",
              "      <td>1</td>\n",
              "      <td>a</td>\n",
              "    </tr>\n",
              "    <tr>\n",
              "      <th>1</th>\n",
              "      <td>2</td>\n",
              "      <td>b</td>\n",
              "    </tr>\n",
              "    <tr>\n",
              "      <th>2</th>\n",
              "      <td>3</td>\n",
              "      <td>c</td>\n",
              "    </tr>\n",
              "    <tr>\n",
              "      <th>3</th>\n",
              "      <td>4</td>\n",
              "      <td>b</td>\n",
              "    </tr>\n",
              "    <tr>\n",
              "      <th>4</th>\n",
              "      <td>5</td>\n",
              "      <td>a</td>\n",
              "    </tr>\n",
              "    <tr>\n",
              "      <th>5</th>\n",
              "      <td>6</td>\n",
              "      <td>e</td>\n",
              "    </tr>\n",
              "  </tbody>\n",
              "</table>\n",
              "</div>"
            ],
            "text/plain": [
              "   id grade\n",
              "0   1     a\n",
              "1   2     b\n",
              "2   3     c\n",
              "3   4     b\n",
              "4   5     a\n",
              "5   6     e"
            ]
          },
          "metadata": {},
          "execution_count": 81
        }
      ]
    },
    {
      "cell_type": "code",
      "metadata": {
        "id": "bApP09u2vfGW"
      },
      "source": [
        "df['Grades']=df['grade'].astype('category')"
      ],
      "execution_count": 82,
      "outputs": []
    },
    {
      "cell_type": "code",
      "metadata": {
        "colab": {
          "base_uri": "https://localhost:8080/"
        },
        "id": "JCQ-ittHwhpT",
        "outputId": "e6720a27-d9e3-4024-a759-6af075910aaf"
      },
      "source": [
        "df['Grades']"
      ],
      "execution_count": 83,
      "outputs": [
        {
          "output_type": "execute_result",
          "data": {
            "text/plain": [
              "0    a\n",
              "1    b\n",
              "2    c\n",
              "3    b\n",
              "4    a\n",
              "5    e\n",
              "Name: Grades, dtype: category\n",
              "Categories (4, object): ['a', 'b', 'c', 'e']"
            ]
          },
          "metadata": {},
          "execution_count": 83
        }
      ]
    },
    {
      "cell_type": "code",
      "metadata": {
        "id": "Uwk09Xmqwlaa"
      },
      "source": [
        "df['Grades'].cat.categories=['good','very bad','very good','excellent']"
      ],
      "execution_count": 84,
      "outputs": []
    },
    {
      "cell_type": "code",
      "metadata": {
        "id": "nHkqc01px8lN"
      },
      "source": [
        "df['Grades']=df['Grades'].cat.set_categories(['very good','bad','very bad','good','medium'])"
      ],
      "execution_count": 85,
      "outputs": []
    },
    {
      "cell_type": "code",
      "metadata": {
        "colab": {
          "base_uri": "https://localhost:8080/"
        },
        "id": "sYQ_75Gyy17E",
        "outputId": "8e16ea50-dbc4-496c-e8c6-c7b86944306a"
      },
      "source": [
        "df[\"Grades\"]"
      ],
      "execution_count": 86,
      "outputs": [
        {
          "output_type": "execute_result",
          "data": {
            "text/plain": [
              "0         good\n",
              "1     very bad\n",
              "2    very good\n",
              "3     very bad\n",
              "4         good\n",
              "5          NaN\n",
              "Name: Grades, dtype: category\n",
              "Categories (5, object): ['very good', 'bad', 'very bad', 'good', 'medium']"
            ]
          },
          "metadata": {},
          "execution_count": 86
        }
      ]
    },
    {
      "cell_type": "markdown",
      "metadata": {
        "id": "9U9isASVy-_j"
      },
      "source": [
        "# Plotting"
      ]
    },
    {
      "cell_type": "code",
      "metadata": {
        "id": "pEmQ4YutzJrV"
      },
      "source": [
        "import matplotlib.pyplot as plt\n"
      ],
      "execution_count": 87,
      "outputs": []
    },
    {
      "cell_type": "code",
      "metadata": {
        "id": "MRSnNMB_zUn5"
      },
      "source": [
        "plt.close('all')"
      ],
      "execution_count": 88,
      "outputs": []
    },
    {
      "cell_type": "code",
      "metadata": {
        "id": "Uh_aM9AVzZYb"
      },
      "source": [
        "ts=pd.Series(np.random.randn(500),index=pd.date_range('20210918',periods=500))"
      ],
      "execution_count": 89,
      "outputs": []
    },
    {
      "cell_type": "code",
      "metadata": {
        "id": "NkCNiemsz5Se"
      },
      "source": [
        "ts=ts.cumsum()"
      ],
      "execution_count": 90,
      "outputs": []
    },
    {
      "cell_type": "code",
      "metadata": {
        "colab": {
          "base_uri": "https://localhost:8080/",
          "height": 294
        },
        "id": "ufP3EqoM0Cae",
        "outputId": "a9220f50-ea13-42c2-f4af-340b1487a0af"
      },
      "source": [
        "ts.plot()"
      ],
      "execution_count": 91,
      "outputs": [
        {
          "output_type": "execute_result",
          "data": {
            "text/plain": [
              "<matplotlib.axes._subplots.AxesSubplot at 0x7fc4ff593790>"
            ]
          },
          "metadata": {},
          "execution_count": 91
        },
        {
          "output_type": "display_data",
          "data": {
            "image/png": "[encoded data removed]",
            "text/plain": [
              "<Figure size 432x288 with 1 Axes>"
            ]
          },
          "metadata": {
            "needs_background": "light"
          }
        }
      ]
    },
    {
      "cell_type": "markdown",
      "metadata": {
        "id": "I4yDzOtO0D1H"
      },
      "source": [
        "## How to Plot Using Pandas\n",
        "\n",
        "* With the help of python, We can use pandas to plot series objects or dataframes"
      ]
    },
    {
      "cell_type": "code",
      "metadata": {
        "colab": {
          "base_uri": "https://localhost:8080/"
        },
        "id": "Abc8IsY90-3q",
        "outputId": "f588b01e-7f7b-4841-9a94-1497db08e5e7"
      },
      "source": [
        "ts"
      ],
      "execution_count": 92,
      "outputs": [
        {
          "output_type": "execute_result",
          "data": {
            "text/plain": [
              "2021-09-18    -0.649297\n",
              "2021-09-19    -1.447267\n",
              "2021-09-20    -1.585077\n",
              "2021-09-21    -1.787886\n",
              "2021-09-22    -0.347420\n",
              "                ...    \n",
              "2023-01-26    33.394815\n",
              "2023-01-27    31.865717\n",
              "2023-01-28    33.684841\n",
              "2023-01-29    34.745525\n",
              "2023-01-30    33.533898\n",
              "Freq: D, Length: 500, dtype: float64"
            ]
          },
          "metadata": {},
          "execution_count": 92
        }
      ]
    },
    {
      "cell_type": "code",
      "metadata": {
        "id": "a6BykIq31CE9"
      },
      "source": [
        "ts.to_csv('ts.csv')"
      ],
      "execution_count": 95,
      "outputs": []
    },
    {
      "cell_type": "code",
      "metadata": {
        "colab": {
          "base_uri": "https://localhost:8080/"
        },
        "id": "EyqwTjo_1TaZ",
        "outputId": "1c4e4ecf-0ee8-42f2-b0b8-1e897e5da9a3"
      },
      "source": [
        "from google.colab import drive\n",
        "drive.mount('/content/drive')"
      ],
      "execution_count": 98,
      "outputs": [
        {
          "output_type": "stream",
          "name": "stdout",
          "text": [
            "Drive already mounted at /content/drive; to attempt to forcibly remount, call drive.mount(\"/content/drive\", force_remount=True).\n"
          ]
        }
      ]
    },
    {
      "cell_type": "code",
      "metadata": {
        "colab": {
          "base_uri": "https://localhost:8080/",
          "height": 419
        },
        "id": "4v9vH9811dk3",
        "outputId": "07bdac57-0c5a-484d-b566-14d3ca26eb4e"
      },
      "source": [
        "pd.read_csv('/content/ts.csv')"
      ],
      "execution_count": 99,
      "outputs": [
        {
          "output_type": "execute_result",
          "data": {
            "text/html": [
              "<div>\n",
              "<style scoped>\n",
              "    .dataframe tbody tr th:only-of-type {\n",
              "        vertical-align: middle;\n",
              "    }\n",
              "\n",
              "    .dataframe tbody tr th {\n",
              "        vertical-align: top;\n",
              "    }\n",
              "\n",
              "    .dataframe thead th {\n",
              "        text-align: right;\n",
              "    }\n",
              "</style>\n",
              "<table border=\"1\" class=\"dataframe\">\n",
              "  <thead>\n",
              "    <tr style=\"text-align: right;\">\n",
              "      <th></th>\n",
              "      <th>Unnamed: 0</th>\n",
              "      <th>0</th>\n",
              "    </tr>\n",
              "  </thead>\n",
              "  <tbody>\n",
              "    <tr>\n",
              "      <th>0</th>\n",
              "      <td>2021-09-18</td>\n",
              "      <td>-0.649297</td>\n",
              "    </tr>\n",
              "    <tr>\n",
              "      <th>1</th>\n",
              "      <td>2021-09-19</td>\n",
              "      <td>-1.447267</td>\n",
              "    </tr>\n",
              "    <tr>\n",
              "      <th>2</th>\n",
              "      <td>2021-09-20</td>\n",
              "      <td>-1.585077</td>\n",
              "    </tr>\n",
              "    <tr>\n",
              "      <th>3</th>\n",
              "      <td>2021-09-21</td>\n",
              "      <td>-1.787886</td>\n",
              "    </tr>\n",
              "    <tr>\n",
              "      <th>4</th>\n",
              "      <td>2021-09-22</td>\n",
              "      <td>-0.347420</td>\n",
              "    </tr>\n",
              "    <tr>\n",
              "      <th>...</th>\n",
              "      <td>...</td>\n",
              "      <td>...</td>\n",
              "    </tr>\n",
              "    <tr>\n",
              "      <th>495</th>\n",
              "      <td>2023-01-26</td>\n",
              "      <td>33.394815</td>\n",
              "    </tr>\n",
              "    <tr>\n",
              "      <th>496</th>\n",
              "      <td>2023-01-27</td>\n",
              "      <td>31.865717</td>\n",
              "    </tr>\n",
              "    <tr>\n",
              "      <th>497</th>\n",
              "      <td>2023-01-28</td>\n",
              "      <td>33.684841</td>\n",
              "    </tr>\n",
              "    <tr>\n",
              "      <th>498</th>\n",
              "      <td>2023-01-29</td>\n",
              "      <td>34.745525</td>\n",
              "    </tr>\n",
              "    <tr>\n",
              "      <th>499</th>\n",
              "      <td>2023-01-30</td>\n",
              "      <td>33.533898</td>\n",
              "    </tr>\n",
              "  </tbody>\n",
              "</table>\n",
              "<p>500 rows × 2 columns</p>\n",
              "</div>"
            ],
            "text/plain": [
              "     Unnamed: 0          0\n",
              "0    2021-09-18  -0.649297\n",
              "1    2021-09-19  -1.447267\n",
              "2    2021-09-20  -1.585077\n",
              "3    2021-09-21  -1.787886\n",
              "4    2021-09-22  -0.347420\n",
              "..          ...        ...\n",
              "495  2023-01-26  33.394815\n",
              "496  2023-01-27  31.865717\n",
              "497  2023-01-28  33.684841\n",
              "498  2023-01-29  34.745525\n",
              "499  2023-01-30  33.533898\n",
              "\n",
              "[500 rows x 2 columns]"
            ]
          },
          "metadata": {},
          "execution_count": 99
        }
      ]
    }
  ]
}